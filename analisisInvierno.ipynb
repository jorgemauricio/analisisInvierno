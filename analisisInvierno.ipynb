{
 "cells": [
  {
   "cell_type": "markdown",
   "metadata": {},
   "source": [
    "# Análisis de temperataturas\n",
    "### Información\n",
    "La base de datos que se va a analizar proviene de la **RNEAA** límitada a los meses de **Noviembre, Diciembre, Enero, Febrero y Marzo**. Se cuentan con datos desde **1 de Diciembre de 1997 hasta el 30 de Enero de 2018**.\n",
    "\n"
   ]
  },
  {
   "cell_type": "markdown",
   "metadata": {},
   "source": [
    "## Procesamiento de Información"
   ]
  },
  {
   "cell_type": "code",
   "execution_count": 76,
   "metadata": {
    "collapsed": true
   },
   "outputs": [],
   "source": [
    "#!/usr/bin/env python3\n",
    "# -*- coding: utf-8 -*-\n",
    "\"\"\"\n",
    "#######################################\n",
    "# Script que permite el análisis del\n",
    "dato de temperatura mínima de la RNEAA\n",
    "# Author: Jorge Mauricio\n",
    "# Email: jorge.ernesto.mauricio@gmail.com\n",
    "# Date: 2018-02-01\n",
    "# Version: 1.0\n",
    "#######################################\n",
    "\"\"\"\n",
    "# librerias\n",
    "import pandas as pd\n",
    "import numpy as np\n",
    "import matplotlib.pyplot as plt\n",
    "from mpl_toolkits.basemap import Basemap\n",
    "%matplotlib inline"
   ]
  },
  {
   "cell_type": "code",
   "execution_count": 77,
   "metadata": {
    "collapsed": true
   },
   "outputs": [],
   "source": [
    "# funciones\n",
    "def generarAnio(f):\n",
    "\treturn f.split()[0].split('-')[0]\n",
    "\n",
    "# crear columna mes\n",
    "def generarMes(f):\n",
    "\treturn f.split()[0].split('-')[1]\n",
    "\n",
    "# crear columna dia\n",
    "def generarDia(f):\n",
    "\treturn f.split()[0].split('-')[2]\n",
    "\n",
    "# funcion para generar estación meteorologica\n",
    "def generarEstacion(m,d):\n",
    "\tm = int(m)\n",
    "\td = int(d)\n",
    "\tif m == 12:\n",
    "\t\tif d >=21:\n",
    "\t\t\treturn 'Invierno'\n",
    "\t\telse:\n",
    "\t\t\treturn 'Otoño'\n",
    "\tif m == 1:\n",
    "\t\treturn 'Invierno'\n",
    "\tif m == 2:\n",
    "\t\treturn 'Invierno'\n",
    "\tif m == 3:\n",
    "\t\tif d <= 15:\n",
    "\t\t\treturn 'Invierno'\n",
    "\t\telse:\n",
    "\t\t\treturn 'Primavera'"
   ]
  },
  {
   "cell_type": "code",
   "execution_count": 78,
   "metadata": {
    "collapsed": true
   },
   "outputs": [],
   "source": [
    "# read csv\n",
    "data = pd.read_csv('data/analisis_invierno_3.csv')"
   ]
  },
  {
   "cell_type": "code",
   "execution_count": 79,
   "metadata": {},
   "outputs": [
    {
     "name": "stdout",
     "output_type": "stream",
     "text": [
      "<class 'pandas.core.frame.DataFrame'>\n",
      "RangeIndex: 3137642 entries, 0 to 3137641\n",
      "Data columns (total 6 columns):\n",
      "numero      int64\n",
      "nombre      object\n",
      "longitud    float64\n",
      "latitud     float64\n",
      "fecha       object\n",
      "tmin        float64\n",
      "dtypes: float64(3), int64(1), object(2)\n",
      "memory usage: 143.6+ MB\n"
     ]
    }
   ],
   "source": [
    "#info df\n",
    "data.info()"
   ]
  },
  {
   "cell_type": "code",
   "execution_count": 80,
   "metadata": {},
   "outputs": [
    {
     "data": {
      "text/plain": [
       "numero      3137642\n",
       "nombre      3137642\n",
       "longitud    3137642\n",
       "latitud     3137642\n",
       "fecha       3137642\n",
       "tmin        2633956\n",
       "dtype: int64"
      ]
     },
     "execution_count": 80,
     "metadata": {},
     "output_type": "execute_result"
    }
   ],
   "source": [
    "# data count\n",
    "data.count()"
   ]
  },
  {
   "cell_type": "code",
   "execution_count": 81,
   "metadata": {
    "collapsed": true
   },
   "outputs": [],
   "source": [
    "# eliminar datos nulos\n",
    "data = data.dropna()"
   ]
  },
  {
   "cell_type": "code",
   "execution_count": 82,
   "metadata": {},
   "outputs": [
    {
     "data": {
      "text/html": [
       "<div>\n",
       "<style>\n",
       "    .dataframe thead tr:only-child th {\n",
       "        text-align: right;\n",
       "    }\n",
       "\n",
       "    .dataframe thead th {\n",
       "        text-align: left;\n",
       "    }\n",
       "\n",
       "    .dataframe tbody tr th {\n",
       "        vertical-align: top;\n",
       "    }\n",
       "</style>\n",
       "<table border=\"1\" class=\"dataframe\">\n",
       "  <thead>\n",
       "    <tr style=\"text-align: right;\">\n",
       "      <th></th>\n",
       "      <th>numero</th>\n",
       "      <th>nombre</th>\n",
       "      <th>longitud</th>\n",
       "      <th>latitud</th>\n",
       "      <th>fecha</th>\n",
       "      <th>tmin</th>\n",
       "    </tr>\n",
       "  </thead>\n",
       "  <tbody>\n",
       "    <tr>\n",
       "      <th>0</th>\n",
       "      <td>2</td>\n",
       "      <td>La Mirinda</td>\n",
       "      <td>-102.251778</td>\n",
       "      <td>22.248528</td>\n",
       "      <td>2013-02-01 00:00:00</td>\n",
       "      <td>8.2</td>\n",
       "    </tr>\n",
       "    <tr>\n",
       "      <th>1</th>\n",
       "      <td>2</td>\n",
       "      <td>La Mirinda</td>\n",
       "      <td>-102.251778</td>\n",
       "      <td>22.248528</td>\n",
       "      <td>2013-02-02 00:00:00</td>\n",
       "      <td>4.6</td>\n",
       "    </tr>\n",
       "    <tr>\n",
       "      <th>2</th>\n",
       "      <td>2</td>\n",
       "      <td>La Mirinda</td>\n",
       "      <td>-102.251778</td>\n",
       "      <td>22.248528</td>\n",
       "      <td>2013-02-03 00:00:00</td>\n",
       "      <td>0.3</td>\n",
       "    </tr>\n",
       "    <tr>\n",
       "      <th>3</th>\n",
       "      <td>2</td>\n",
       "      <td>La Mirinda</td>\n",
       "      <td>-102.251778</td>\n",
       "      <td>22.248528</td>\n",
       "      <td>2013-02-04 00:00:00</td>\n",
       "      <td>1.6</td>\n",
       "    </tr>\n",
       "    <tr>\n",
       "      <th>4</th>\n",
       "      <td>2</td>\n",
       "      <td>La Mirinda</td>\n",
       "      <td>-102.251778</td>\n",
       "      <td>22.248528</td>\n",
       "      <td>2013-02-05 00:00:00</td>\n",
       "      <td>0.6</td>\n",
       "    </tr>\n",
       "  </tbody>\n",
       "</table>\n",
       "</div>"
      ],
      "text/plain": [
       "   numero      nombre    longitud    latitud                fecha  tmin\n",
       "0       2  La Mirinda -102.251778  22.248528  2013-02-01 00:00:00   8.2\n",
       "1       2  La Mirinda -102.251778  22.248528  2013-02-02 00:00:00   4.6\n",
       "2       2  La Mirinda -102.251778  22.248528  2013-02-03 00:00:00   0.3\n",
       "3       2  La Mirinda -102.251778  22.248528  2013-02-04 00:00:00   1.6\n",
       "4       2  La Mirinda -102.251778  22.248528  2013-02-05 00:00:00   0.6"
      ]
     },
     "execution_count": 82,
     "metadata": {},
     "output_type": "execute_result"
    }
   ],
   "source": [
    "# integridad del DF\n",
    "data.head()"
   ]
  },
  {
   "cell_type": "code",
   "execution_count": 83,
   "metadata": {
    "collapsed": true
   },
   "outputs": [],
   "source": [
    "data['Año'] = data.apply(lambda x: generarAnio(x['fecha']), axis=1)"
   ]
  },
  {
   "cell_type": "code",
   "execution_count": 84,
   "metadata": {
    "collapsed": true
   },
   "outputs": [],
   "source": [
    "data['Mes'] = data.apply(lambda x: generarMes(x['fecha']), axis=1)"
   ]
  },
  {
   "cell_type": "code",
   "execution_count": 85,
   "metadata": {
    "collapsed": true
   },
   "outputs": [],
   "source": [
    "data['Día'] = data.apply(lambda x: generarDia(x['fecha']), axis=1)"
   ]
  },
  {
   "cell_type": "code",
   "execution_count": 86,
   "metadata": {},
   "outputs": [
    {
     "data": {
      "text/html": [
       "<div>\n",
       "<style>\n",
       "    .dataframe thead tr:only-child th {\n",
       "        text-align: right;\n",
       "    }\n",
       "\n",
       "    .dataframe thead th {\n",
       "        text-align: left;\n",
       "    }\n",
       "\n",
       "    .dataframe tbody tr th {\n",
       "        vertical-align: top;\n",
       "    }\n",
       "</style>\n",
       "<table border=\"1\" class=\"dataframe\">\n",
       "  <thead>\n",
       "    <tr style=\"text-align: right;\">\n",
       "      <th></th>\n",
       "      <th>numero</th>\n",
       "      <th>nombre</th>\n",
       "      <th>longitud</th>\n",
       "      <th>latitud</th>\n",
       "      <th>fecha</th>\n",
       "      <th>tmin</th>\n",
       "      <th>Año</th>\n",
       "      <th>Mes</th>\n",
       "      <th>Día</th>\n",
       "    </tr>\n",
       "  </thead>\n",
       "  <tbody>\n",
       "    <tr>\n",
       "      <th>0</th>\n",
       "      <td>2</td>\n",
       "      <td>La Mirinda</td>\n",
       "      <td>-102.251778</td>\n",
       "      <td>22.248528</td>\n",
       "      <td>2013-02-01 00:00:00</td>\n",
       "      <td>8.2</td>\n",
       "      <td>2013</td>\n",
       "      <td>02</td>\n",
       "      <td>01</td>\n",
       "    </tr>\n",
       "    <tr>\n",
       "      <th>1</th>\n",
       "      <td>2</td>\n",
       "      <td>La Mirinda</td>\n",
       "      <td>-102.251778</td>\n",
       "      <td>22.248528</td>\n",
       "      <td>2013-02-02 00:00:00</td>\n",
       "      <td>4.6</td>\n",
       "      <td>2013</td>\n",
       "      <td>02</td>\n",
       "      <td>02</td>\n",
       "    </tr>\n",
       "    <tr>\n",
       "      <th>2</th>\n",
       "      <td>2</td>\n",
       "      <td>La Mirinda</td>\n",
       "      <td>-102.251778</td>\n",
       "      <td>22.248528</td>\n",
       "      <td>2013-02-03 00:00:00</td>\n",
       "      <td>0.3</td>\n",
       "      <td>2013</td>\n",
       "      <td>02</td>\n",
       "      <td>03</td>\n",
       "    </tr>\n",
       "    <tr>\n",
       "      <th>3</th>\n",
       "      <td>2</td>\n",
       "      <td>La Mirinda</td>\n",
       "      <td>-102.251778</td>\n",
       "      <td>22.248528</td>\n",
       "      <td>2013-02-04 00:00:00</td>\n",
       "      <td>1.6</td>\n",
       "      <td>2013</td>\n",
       "      <td>02</td>\n",
       "      <td>04</td>\n",
       "    </tr>\n",
       "    <tr>\n",
       "      <th>4</th>\n",
       "      <td>2</td>\n",
       "      <td>La Mirinda</td>\n",
       "      <td>-102.251778</td>\n",
       "      <td>22.248528</td>\n",
       "      <td>2013-02-05 00:00:00</td>\n",
       "      <td>0.6</td>\n",
       "      <td>2013</td>\n",
       "      <td>02</td>\n",
       "      <td>05</td>\n",
       "    </tr>\n",
       "  </tbody>\n",
       "</table>\n",
       "</div>"
      ],
      "text/plain": [
       "   numero      nombre    longitud    latitud                fecha  tmin   Año  \\\n",
       "0       2  La Mirinda -102.251778  22.248528  2013-02-01 00:00:00   8.2  2013   \n",
       "1       2  La Mirinda -102.251778  22.248528  2013-02-02 00:00:00   4.6  2013   \n",
       "2       2  La Mirinda -102.251778  22.248528  2013-02-03 00:00:00   0.3  2013   \n",
       "3       2  La Mirinda -102.251778  22.248528  2013-02-04 00:00:00   1.6  2013   \n",
       "4       2  La Mirinda -102.251778  22.248528  2013-02-05 00:00:00   0.6  2013   \n",
       "\n",
       "  Mes Día  \n",
       "0  02  01  \n",
       "1  02  02  \n",
       "2  02  03  \n",
       "3  02  04  \n",
       "4  02  05  "
      ]
     },
     "execution_count": 86,
     "metadata": {},
     "output_type": "execute_result"
    }
   ],
   "source": [
    "# integridad db\n",
    "data.head()"
   ]
  },
  {
   "cell_type": "code",
   "execution_count": 87,
   "metadata": {
    "collapsed": true
   },
   "outputs": [],
   "source": [
    "data['Estación'] = data.apply(lambda x: generarEstacion(x['Mes'], x['Día']), axis=1)"
   ]
  },
  {
   "cell_type": "code",
   "execution_count": 88,
   "metadata": {},
   "outputs": [
    {
     "data": {
      "text/html": [
       "<div>\n",
       "<style>\n",
       "    .dataframe thead tr:only-child th {\n",
       "        text-align: right;\n",
       "    }\n",
       "\n",
       "    .dataframe thead th {\n",
       "        text-align: left;\n",
       "    }\n",
       "\n",
       "    .dataframe tbody tr th {\n",
       "        vertical-align: top;\n",
       "    }\n",
       "</style>\n",
       "<table border=\"1\" class=\"dataframe\">\n",
       "  <thead>\n",
       "    <tr style=\"text-align: right;\">\n",
       "      <th></th>\n",
       "      <th>numero</th>\n",
       "      <th>nombre</th>\n",
       "      <th>longitud</th>\n",
       "      <th>latitud</th>\n",
       "      <th>fecha</th>\n",
       "      <th>tmin</th>\n",
       "      <th>Año</th>\n",
       "      <th>Mes</th>\n",
       "      <th>Día</th>\n",
       "      <th>Estación</th>\n",
       "    </tr>\n",
       "  </thead>\n",
       "  <tbody>\n",
       "    <tr>\n",
       "      <th>0</th>\n",
       "      <td>2</td>\n",
       "      <td>La Mirinda</td>\n",
       "      <td>-102.251778</td>\n",
       "      <td>22.248528</td>\n",
       "      <td>2013-02-01 00:00:00</td>\n",
       "      <td>8.2</td>\n",
       "      <td>2013</td>\n",
       "      <td>02</td>\n",
       "      <td>01</td>\n",
       "      <td>Invierno</td>\n",
       "    </tr>\n",
       "    <tr>\n",
       "      <th>1</th>\n",
       "      <td>2</td>\n",
       "      <td>La Mirinda</td>\n",
       "      <td>-102.251778</td>\n",
       "      <td>22.248528</td>\n",
       "      <td>2013-02-02 00:00:00</td>\n",
       "      <td>4.6</td>\n",
       "      <td>2013</td>\n",
       "      <td>02</td>\n",
       "      <td>02</td>\n",
       "      <td>Invierno</td>\n",
       "    </tr>\n",
       "    <tr>\n",
       "      <th>2</th>\n",
       "      <td>2</td>\n",
       "      <td>La Mirinda</td>\n",
       "      <td>-102.251778</td>\n",
       "      <td>22.248528</td>\n",
       "      <td>2013-02-03 00:00:00</td>\n",
       "      <td>0.3</td>\n",
       "      <td>2013</td>\n",
       "      <td>02</td>\n",
       "      <td>03</td>\n",
       "      <td>Invierno</td>\n",
       "    </tr>\n",
       "    <tr>\n",
       "      <th>3</th>\n",
       "      <td>2</td>\n",
       "      <td>La Mirinda</td>\n",
       "      <td>-102.251778</td>\n",
       "      <td>22.248528</td>\n",
       "      <td>2013-02-04 00:00:00</td>\n",
       "      <td>1.6</td>\n",
       "      <td>2013</td>\n",
       "      <td>02</td>\n",
       "      <td>04</td>\n",
       "      <td>Invierno</td>\n",
       "    </tr>\n",
       "    <tr>\n",
       "      <th>4</th>\n",
       "      <td>2</td>\n",
       "      <td>La Mirinda</td>\n",
       "      <td>-102.251778</td>\n",
       "      <td>22.248528</td>\n",
       "      <td>2013-02-05 00:00:00</td>\n",
       "      <td>0.6</td>\n",
       "      <td>2013</td>\n",
       "      <td>02</td>\n",
       "      <td>05</td>\n",
       "      <td>Invierno</td>\n",
       "    </tr>\n",
       "  </tbody>\n",
       "</table>\n",
       "</div>"
      ],
      "text/plain": [
       "   numero      nombre    longitud    latitud                fecha  tmin   Año  \\\n",
       "0       2  La Mirinda -102.251778  22.248528  2013-02-01 00:00:00   8.2  2013   \n",
       "1       2  La Mirinda -102.251778  22.248528  2013-02-02 00:00:00   4.6  2013   \n",
       "2       2  La Mirinda -102.251778  22.248528  2013-02-03 00:00:00   0.3  2013   \n",
       "3       2  La Mirinda -102.251778  22.248528  2013-02-04 00:00:00   1.6  2013   \n",
       "4       2  La Mirinda -102.251778  22.248528  2013-02-05 00:00:00   0.6  2013   \n",
       "\n",
       "  Mes Día  Estación  \n",
       "0  02  01  Invierno  \n",
       "1  02  02  Invierno  \n",
       "2  02  03  Invierno  \n",
       "3  02  04  Invierno  \n",
       "4  02  05  Invierno  "
      ]
     },
     "execution_count": 88,
     "metadata": {},
     "output_type": "execute_result"
    }
   ],
   "source": [
    "# estructura bd\n",
    "data.head()"
   ]
  },
  {
   "cell_type": "code",
   "execution_count": 89,
   "metadata": {
    "collapsed": true
   },
   "outputs": [],
   "source": [
    "# filtrar información\n",
    "data = data.loc[data['Estación'] == 'Invierno']"
   ]
  },
  {
   "cell_type": "code",
   "execution_count": 90,
   "metadata": {
    "collapsed": true
   },
   "outputs": [],
   "source": [
    "# filtrar información aberrante tmin menor\n",
    "data = data.loc[data['tmin'] >= -10]"
   ]
  },
  {
   "cell_type": "code",
   "execution_count": 107,
   "metadata": {
    "collapsed": true
   },
   "outputs": [],
   "source": [
    "# filtrar información aberrante tmin mayor\n",
    "data = data.loc[data['tmin'] <= 15]"
   ]
  },
  {
   "cell_type": "markdown",
   "metadata": {},
   "source": [
    "## Tmin"
   ]
  },
  {
   "cell_type": "code",
   "execution_count": 108,
   "metadata": {},
   "outputs": [
    {
     "data": {
      "text/plain": [
       "Año\n",
       "1997    3.918182\n",
       "1998    4.576316\n",
       "1999    5.093455\n",
       "2000    6.072632\n",
       "2001    8.466387\n",
       "2002    4.669992\n",
       "2003    4.967188\n",
       "2004    4.530346\n",
       "2005    4.759513\n",
       "2006    5.033955\n",
       "2007    6.036093\n",
       "2008    5.804935\n",
       "2009    6.713846\n",
       "2010    6.907510\n",
       "2011    5.976067\n",
       "2012    6.550476\n",
       "2013    5.604550\n",
       "2014    5.568526\n",
       "2015    6.562666\n",
       "2016    5.151191\n",
       "2017    5.881920\n",
       "2018    4.526206\n",
       "Name: tmin, dtype: float64"
      ]
     },
     "execution_count": 108,
     "metadata": {},
     "output_type": "execute_result"
    }
   ],
   "source": [
    "# media de tmin anual\n",
    "plt.style.use('ggplot')\n",
    "data.groupby('Año').mean()['tmin']"
   ]
  },
  {
   "cell_type": "code",
   "execution_count": 109,
   "metadata": {},
   "outputs": [
    {
     "data": {
      "text/plain": [
       "<matplotlib.axes._subplots.AxesSubplot at 0x1606c87b8>"
      ]
     },
     "execution_count": 109,
     "metadata": {},
     "output_type": "execute_result"
    },
    {
     "data": {
      "image/png": "[encoded data removed]",
      "text/plain": [
       "<matplotlib.figure.Figure at 0x1606cb4a8>"
      ]
     },
     "metadata": {},
     "output_type": "display_data"
    }
   ],
   "source": [
    "data.groupby('Año').mean()['tmin'].plot.bar(figsize=(10,5))"
   ]
  },
  {
   "cell_type": "code",
   "execution_count": 110,
   "metadata": {},
   "outputs": [
    {
     "data": {
      "text/plain": [
       "<matplotlib.axes._subplots.AxesSubplot at 0x1606b4860>"
      ]
     },
     "execution_count": 110,
     "metadata": {},
     "output_type": "execute_result"
    },
    {
     "data": {
      "image/png": "[encoded data removed]",
      "text/plain": [
       "<matplotlib.figure.Figure at 0x1606f37f0>"
      ]
     },
     "metadata": {},
     "output_type": "display_data"
    }
   ],
   "source": [
    "data['tmin'].hist(bins=50)"
   ]
  },
  {
   "cell_type": "code",
   "execution_count": 111,
   "metadata": {
    "collapsed": true
   },
   "outputs": [],
   "source": [
    "dataAnio = data.groupby(['longitud','latitud','Año']).mean()['tmin']"
   ]
  },
  {
   "cell_type": "code",
   "execution_count": 112,
   "metadata": {},
   "outputs": [
    {
     "data": {
      "text/plain": [
       "longitud     latitud    Año \n",
       "-116.860285  32.101629  2015    5.353636\n",
       "                        2016    7.648452\n",
       "                        2017    6.647656\n",
       "                        2018    7.580714\n",
       "-116.161000  31.252000  2015    2.527273\n",
       "Name: tmin, dtype: float64"
      ]
     },
     "execution_count": 112,
     "metadata": {},
     "output_type": "execute_result"
    }
   ],
   "source": [
    "dataAnio.head()"
   ]
  },
  {
   "cell_type": "code",
   "execution_count": 113,
   "metadata": {
    "collapsed": true
   },
   "outputs": [],
   "source": [
    "dataAnio.to_csv('data/dataPorUbicacion_Anios.csv')"
   ]
  },
  {
   "cell_type": "code",
   "execution_count": 114,
   "metadata": {
    "collapsed": true
   },
   "outputs": [],
   "source": [
    "dataA = pd.read_csv('data/dataPorUbicacion_Anios.csv', header=None)"
   ]
  },
  {
   "cell_type": "code",
   "execution_count": 115,
   "metadata": {},
   "outputs": [
    {
     "data": {
      "text/html": [
       "<div>\n",
       "<style>\n",
       "    .dataframe thead tr:only-child th {\n",
       "        text-align: right;\n",
       "    }\n",
       "\n",
       "    .dataframe thead th {\n",
       "        text-align: left;\n",
       "    }\n",
       "\n",
       "    .dataframe tbody tr th {\n",
       "        vertical-align: top;\n",
       "    }\n",
       "</style>\n",
       "<table border=\"1\" class=\"dataframe\">\n",
       "  <thead>\n",
       "    <tr style=\"text-align: right;\">\n",
       "      <th></th>\n",
       "      <th>0</th>\n",
       "      <th>1</th>\n",
       "      <th>2</th>\n",
       "      <th>3</th>\n",
       "    </tr>\n",
       "  </thead>\n",
       "  <tbody>\n",
       "    <tr>\n",
       "      <th>0</th>\n",
       "      <td>-116.860285</td>\n",
       "      <td>32.101629</td>\n",
       "      <td>2015</td>\n",
       "      <td>5.353636</td>\n",
       "    </tr>\n",
       "    <tr>\n",
       "      <th>1</th>\n",
       "      <td>-116.860285</td>\n",
       "      <td>32.101629</td>\n",
       "      <td>2016</td>\n",
       "      <td>7.648452</td>\n",
       "    </tr>\n",
       "    <tr>\n",
       "      <th>2</th>\n",
       "      <td>-116.860285</td>\n",
       "      <td>32.101629</td>\n",
       "      <td>2017</td>\n",
       "      <td>6.647656</td>\n",
       "    </tr>\n",
       "    <tr>\n",
       "      <th>3</th>\n",
       "      <td>-116.860285</td>\n",
       "      <td>32.101629</td>\n",
       "      <td>2018</td>\n",
       "      <td>7.580714</td>\n",
       "    </tr>\n",
       "    <tr>\n",
       "      <th>4</th>\n",
       "      <td>-116.161000</td>\n",
       "      <td>31.252000</td>\n",
       "      <td>2015</td>\n",
       "      <td>2.527273</td>\n",
       "    </tr>\n",
       "  </tbody>\n",
       "</table>\n",
       "</div>"
      ],
      "text/plain": [
       "            0          1     2         3\n",
       "0 -116.860285  32.101629  2015  5.353636\n",
       "1 -116.860285  32.101629  2016  7.648452\n",
       "2 -116.860285  32.101629  2017  6.647656\n",
       "3 -116.860285  32.101629  2018  7.580714\n",
       "4 -116.161000  31.252000  2015  2.527273"
      ]
     },
     "execution_count": 115,
     "metadata": {},
     "output_type": "execute_result"
    }
   ],
   "source": [
    "dataA.head()"
   ]
  },
  {
   "cell_type": "code",
   "execution_count": 116,
   "metadata": {
    "collapsed": true
   },
   "outputs": [],
   "source": [
    "cols = ['longitud','latitud','Año','Tmin']"
   ]
  },
  {
   "cell_type": "code",
   "execution_count": 117,
   "metadata": {
    "collapsed": true
   },
   "outputs": [],
   "source": [
    "dataA.columns = cols"
   ]
  },
  {
   "cell_type": "code",
   "execution_count": 118,
   "metadata": {
    "collapsed": true
   },
   "outputs": [],
   "source": [
    "# límites del mapas\n",
    "LONG_MAX = -86.1010\n",
    "LONG_MIN = -118.2360\n",
    "LAT_MAX = 33.5791\n",
    "LAT_MIN = 12.37"
   ]
  },
  {
   "cell_type": "code",
   "execution_count": null,
   "metadata": {},
   "outputs": [],
   "source": [
    "for i in dataA['Año'].unique():\n",
    "    # configuración del mapas\n",
    "    plt.clf()\n",
    "    fig = plt.figure(figsize=(6,4))\n",
    "    m = Basemap(projection='mill',llcrnrlat=LAT_MIN,urcrnrlat=LAT_MAX,llcrnrlon=LONG_MIN,urcrnrlon=LONG_MAX,resolution='h')\n",
    "\n",
    "    # filtrar información por años\n",
    "    dataTemporal = dataA.loc[dataA['Año'] == i]\n",
    "    x = np.array(dataTemporal['longitud'])\n",
    "    y = np.array(dataTemporal['latitud'])\n",
    "    z = np.array(dataTemporal['Tmin'])\n",
    "\n",
    "    # agregar shapes\n",
    "    m.readshapefile('shapes/Estados', 'Estados')\n",
    "\n",
    "    # agregar puntos\n",
    "    m.scatter(x,y, latlon=True, s=2,c=z, cmap='Blues_r')\n",
    "\n",
    "    # crear anotación\n",
    "    latitudAnotacion = (LAT_MAX + LAT_MIN) / 2\n",
    "    longitudAnotacion = (LONG_MAX + LONG_MIN) / 2\n",
    "    plt.annotate('@2018 INIFAP', xy=(longitudAnotacion,latitudAnotacion), xycoords='figure fraction', xytext=(0.25,0.55), color='g')\n",
    "    plt.title(f\"Temperatura Mínima Media\\n registrada en el Invierno del {i}\")\n",
    "    plt.colorbar()\n",
    "    temp = f\"maps/Tmin_{i}.png\"\n",
    "    plt.savefig(temp, dpi=300)"
   ]
  },
  {
   "cell_type": "markdown",
   "metadata": {
    "collapsed": true
   },
   "source": [
    "## Imagenes\n",
    "\n",
    "![1997](maps/Tmin_1997.png)\n",
    "![1998](maps/Tmin_1998.png)\n",
    "![1999](maps/Tmin_1999.png)\n",
    "![2000](maps/Tmin_2000.png)\n",
    "![2001](maps/Tmin_2001.png)\n",
    "![2002](maps/Tmin_2002.png)\n",
    "![2003](maps/Tmin_2003.png)\n",
    "![2004](maps/Tmin_2004.png)\n",
    "![2005](maps/Tmin_2005.png)\n",
    "![2006](maps/Tmin_2006.png)\n",
    "![2007](maps/Tmin_2007.png)\n",
    "![2008](maps/Tmin_2008.png)\n",
    "![2009](maps/Tmin_2009.png)\n",
    "![2010](maps/Tmin_2010.png)\n",
    "![2011](maps/Tmin_2011.png)\n",
    "![2012](maps/Tmin_2012.png)\n",
    "![2013](maps/Tmin_2013.png)\n",
    "![2014](maps/Tmin_2014.png)\n",
    "![2015](maps/Tmin_2015.png)\n",
    "![2016](maps/Tmin_2016.png)\n",
    "![2017](maps/Tmin_2017.png)\n",
    "![2018](maps/Tmin_2018.png)"
   ]
  },
  {
   "cell_type": "code",
   "execution_count": null,
   "metadata": {
    "collapsed": true
   },
   "outputs": [],
   "source": []
  }
 ],
 "metadata": {
  "kernelspec": {
   "display_name": "Python 3",
   "language": "python",
   "name": "python3"
  },
  "language_info": {
   "codemirror_mode": {
    "name": "ipython",
    "version": 3
   },
   "file_extension": ".py",
   "mimetype": "text/x-python",
   "name": "python",
   "nbconvert_exporter": "python",
   "pygments_lexer": "ipython3",
   "version": "3.6.4"
  }
 },
 "nbformat": 4,
 "nbformat_minor": 2
}
