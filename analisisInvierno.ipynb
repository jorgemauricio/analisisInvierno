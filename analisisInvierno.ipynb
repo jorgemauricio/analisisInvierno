{
 "cells": [
  {
   "cell_type": "markdown",
   "metadata": {},
   "source": [
    "# Análisis de temperataturas\n",
    "### Información\n",
    "La base de datos que se va a analizar proviene de la **RNEAA** límitada a los meses de **Noviembre, Diciembre, Enero, Febrero y Marzo**. Se cuentan con datos desde **1 de Diciembre de 1997 hasta el 30 de Enero de 2018**.\n",
    "\n",
    "* Tmin -39.6 hasta 44.7\n",
    "* Tmax -34.5 hasta 60"
   ]
  },
  {
   "cell_type": "markdown",
   "metadata": {},
   "source": [
    "## Procesamiento de Información"
   ]
  },
  {
   "cell_type": "code",
   "execution_count": 42,
   "metadata": {
    "collapsed": true
   },
   "outputs": [],
   "source": [
    "#!/usr/bin/env python3\n",
    "# -*- coding: utf-8 -*-\n",
    "\"\"\"\n",
    "#######################################\n",
    "# Script que permite el análisis del\n",
    "dato de temperatura mínima de la RNEAA\n",
    "# Author: Jorge Mauricio\n",
    "# Email: jorge.ernesto.mauricio@gmail.com\n",
    "# Date: 2018-02-01\n",
    "# Version: 1.0\n",
    "#######################################\n",
    "\"\"\"\n",
    "# librerias\n",
    "import pandas as pd\n",
    "import numpy as np\n",
    "import matplotlib.pyplot as plt\n",
    "from mpl_toolkits.basemap import Basemap\n",
    "%matplotlib inline"
   ]
  },
  {
   "cell_type": "code",
   "execution_count": 43,
   "metadata": {
    "collapsed": true
   },
   "outputs": [],
   "source": [
    "# funciones\n",
    "def generarAnio(f):\n",
    "\treturn f.split()[0].split('-')[0]\n",
    "\n",
    "# crear columna mes\n",
    "def generarMes(f):\n",
    "\treturn f.split()[0].split('-')[1]\n",
    "\n",
    "# crear columna dia\n",
    "def generarDia(f):\n",
    "\treturn f.split()[0].split('-')[2]\n",
    "\n",
    "# funcion para generar estación meteorologica\n",
    "def generarEstacion(m,d):\n",
    "\tm = int(m)\n",
    "\td = int(d)\n",
    "\tif m == 12:\n",
    "\t\tif d >=21:\n",
    "\t\t\treturn 'Invierno'\n",
    "\t\telse:\n",
    "\t\t\treturn 'Otoño'\n",
    "\tif m == 1:\n",
    "\t\treturn 'Invierno'\n",
    "\tif m == 2:\n",
    "\t\treturn 'Invierno'\n",
    "\tif m == 3:\n",
    "\t\tif d <= 15:\n",
    "\t\t\treturn 'Invierno'\n",
    "\t\telse:\n",
    "\t\t\treturn 'Primavera'\n"
   ]
  },
  {
   "cell_type": "code",
   "execution_count": 44,
   "metadata": {
    "collapsed": true
   },
   "outputs": [],
   "source": [
    "# read csv\n",
    "data = pd.read_csv('data/analisis_invierno_3.csv')"
   ]
  },
  {
   "cell_type": "code",
   "execution_count": 45,
   "metadata": {},
   "outputs": [
    {
     "name": "stdout",
     "output_type": "stream",
     "text": [
      "<class 'pandas.core.frame.DataFrame'>\n",
      "RangeIndex: 3137642 entries, 0 to 3137641\n",
      "Data columns (total 6 columns):\n",
      "numero      int64\n",
      "nombre      object\n",
      "longitud    float64\n",
      "latitud     float64\n",
      "fecha       object\n",
      "tmin        float64\n",
      "dtypes: float64(3), int64(1), object(2)\n",
      "memory usage: 143.6+ MB\n"
     ]
    }
   ],
   "source": [
    "#info df\n",
    "data.info()"
   ]
  },
  {
   "cell_type": "code",
   "execution_count": 46,
   "metadata": {},
   "outputs": [
    {
     "data": {
      "text/plain": [
       "numero      3137642\n",
       "nombre      3137642\n",
       "longitud    3137642\n",
       "latitud     3137642\n",
       "fecha       3137642\n",
       "tmin        2633956\n",
       "dtype: int64"
      ]
     },
     "execution_count": 46,
     "metadata": {},
     "output_type": "execute_result"
    }
   ],
   "source": [
    "# data count\n",
    "data.count()"
   ]
  },
  {
   "cell_type": "code",
   "execution_count": 47,
   "metadata": {
    "collapsed": true
   },
   "outputs": [],
   "source": [
    "# eliminar datos nulos\n",
    "data = data.dropna()"
   ]
  },
  {
   "cell_type": "code",
   "execution_count": 48,
   "metadata": {},
   "outputs": [
    {
     "data": {
      "text/html": [
       "<div>\n",
       "<style>\n",
       "    .dataframe thead tr:only-child th {\n",
       "        text-align: right;\n",
       "    }\n",
       "\n",
       "    .dataframe thead th {\n",
       "        text-align: left;\n",
       "    }\n",
       "\n",
       "    .dataframe tbody tr th {\n",
       "        vertical-align: top;\n",
       "    }\n",
       "</style>\n",
       "<table border=\"1\" class=\"dataframe\">\n",
       "  <thead>\n",
       "    <tr style=\"text-align: right;\">\n",
       "      <th></th>\n",
       "      <th>numero</th>\n",
       "      <th>nombre</th>\n",
       "      <th>longitud</th>\n",
       "      <th>latitud</th>\n",
       "      <th>fecha</th>\n",
       "      <th>tmin</th>\n",
       "    </tr>\n",
       "  </thead>\n",
       "  <tbody>\n",
       "    <tr>\n",
       "      <th>0</th>\n",
       "      <td>2</td>\n",
       "      <td>La Mirinda</td>\n",
       "      <td>-102.251778</td>\n",
       "      <td>22.248528</td>\n",
       "      <td>2013-02-01 00:00:00</td>\n",
       "      <td>8.2</td>\n",
       "    </tr>\n",
       "    <tr>\n",
       "      <th>1</th>\n",
       "      <td>2</td>\n",
       "      <td>La Mirinda</td>\n",
       "      <td>-102.251778</td>\n",
       "      <td>22.248528</td>\n",
       "      <td>2013-02-02 00:00:00</td>\n",
       "      <td>4.6</td>\n",
       "    </tr>\n",
       "    <tr>\n",
       "      <th>2</th>\n",
       "      <td>2</td>\n",
       "      <td>La Mirinda</td>\n",
       "      <td>-102.251778</td>\n",
       "      <td>22.248528</td>\n",
       "      <td>2013-02-03 00:00:00</td>\n",
       "      <td>0.3</td>\n",
       "    </tr>\n",
       "    <tr>\n",
       "      <th>3</th>\n",
       "      <td>2</td>\n",
       "      <td>La Mirinda</td>\n",
       "      <td>-102.251778</td>\n",
       "      <td>22.248528</td>\n",
       "      <td>2013-02-04 00:00:00</td>\n",
       "      <td>1.6</td>\n",
       "    </tr>\n",
       "    <tr>\n",
       "      <th>4</th>\n",
       "      <td>2</td>\n",
       "      <td>La Mirinda</td>\n",
       "      <td>-102.251778</td>\n",
       "      <td>22.248528</td>\n",
       "      <td>2013-02-05 00:00:00</td>\n",
       "      <td>0.6</td>\n",
       "    </tr>\n",
       "  </tbody>\n",
       "</table>\n",
       "</div>"
      ],
      "text/plain": [
       "   numero      nombre    longitud    latitud                fecha  tmin\n",
       "0       2  La Mirinda -102.251778  22.248528  2013-02-01 00:00:00   8.2\n",
       "1       2  La Mirinda -102.251778  22.248528  2013-02-02 00:00:00   4.6\n",
       "2       2  La Mirinda -102.251778  22.248528  2013-02-03 00:00:00   0.3\n",
       "3       2  La Mirinda -102.251778  22.248528  2013-02-04 00:00:00   1.6\n",
       "4       2  La Mirinda -102.251778  22.248528  2013-02-05 00:00:00   0.6"
      ]
     },
     "execution_count": 48,
     "metadata": {},
     "output_type": "execute_result"
    }
   ],
   "source": [
    "# integridad del DF\n",
    "data.head()"
   ]
  },
  {
   "cell_type": "code",
   "execution_count": 49,
   "metadata": {
    "collapsed": true
   },
   "outputs": [],
   "source": [
    "data['Año'] = data.apply(lambda x: generarAnio(x['fecha']), axis=1)"
   ]
  },
  {
   "cell_type": "code",
   "execution_count": 50,
   "metadata": {
    "collapsed": true
   },
   "outputs": [],
   "source": [
    "data['Mes'] = data.apply(lambda x: generarMes(x['fecha']), axis=1)"
   ]
  },
  {
   "cell_type": "code",
   "execution_count": 51,
   "metadata": {
    "collapsed": true
   },
   "outputs": [],
   "source": [
    "data['Día'] = data.apply(lambda x: generarDia(x['fecha']), axis=1)"
   ]
  },
  {
   "cell_type": "code",
   "execution_count": 52,
   "metadata": {},
   "outputs": [
    {
     "data": {
      "text/html": [
       "<div>\n",
       "<style>\n",
       "    .dataframe thead tr:only-child th {\n",
       "        text-align: right;\n",
       "    }\n",
       "\n",
       "    .dataframe thead th {\n",
       "        text-align: left;\n",
       "    }\n",
       "\n",
       "    .dataframe tbody tr th {\n",
       "        vertical-align: top;\n",
       "    }\n",
       "</style>\n",
       "<table border=\"1\" class=\"dataframe\">\n",
       "  <thead>\n",
       "    <tr style=\"text-align: right;\">\n",
       "      <th></th>\n",
       "      <th>numero</th>\n",
       "      <th>nombre</th>\n",
       "      <th>longitud</th>\n",
       "      <th>latitud</th>\n",
       "      <th>fecha</th>\n",
       "      <th>tmin</th>\n",
       "      <th>Año</th>\n",
       "      <th>Mes</th>\n",
       "      <th>Día</th>\n",
       "    </tr>\n",
       "  </thead>\n",
       "  <tbody>\n",
       "    <tr>\n",
       "      <th>0</th>\n",
       "      <td>2</td>\n",
       "      <td>La Mirinda</td>\n",
       "      <td>-102.251778</td>\n",
       "      <td>22.248528</td>\n",
       "      <td>2013-02-01 00:00:00</td>\n",
       "      <td>8.2</td>\n",
       "      <td>2013</td>\n",
       "      <td>02</td>\n",
       "      <td>01</td>\n",
       "    </tr>\n",
       "    <tr>\n",
       "      <th>1</th>\n",
       "      <td>2</td>\n",
       "      <td>La Mirinda</td>\n",
       "      <td>-102.251778</td>\n",
       "      <td>22.248528</td>\n",
       "      <td>2013-02-02 00:00:00</td>\n",
       "      <td>4.6</td>\n",
       "      <td>2013</td>\n",
       "      <td>02</td>\n",
       "      <td>02</td>\n",
       "    </tr>\n",
       "    <tr>\n",
       "      <th>2</th>\n",
       "      <td>2</td>\n",
       "      <td>La Mirinda</td>\n",
       "      <td>-102.251778</td>\n",
       "      <td>22.248528</td>\n",
       "      <td>2013-02-03 00:00:00</td>\n",
       "      <td>0.3</td>\n",
       "      <td>2013</td>\n",
       "      <td>02</td>\n",
       "      <td>03</td>\n",
       "    </tr>\n",
       "    <tr>\n",
       "      <th>3</th>\n",
       "      <td>2</td>\n",
       "      <td>La Mirinda</td>\n",
       "      <td>-102.251778</td>\n",
       "      <td>22.248528</td>\n",
       "      <td>2013-02-04 00:00:00</td>\n",
       "      <td>1.6</td>\n",
       "      <td>2013</td>\n",
       "      <td>02</td>\n",
       "      <td>04</td>\n",
       "    </tr>\n",
       "    <tr>\n",
       "      <th>4</th>\n",
       "      <td>2</td>\n",
       "      <td>La Mirinda</td>\n",
       "      <td>-102.251778</td>\n",
       "      <td>22.248528</td>\n",
       "      <td>2013-02-05 00:00:00</td>\n",
       "      <td>0.6</td>\n",
       "      <td>2013</td>\n",
       "      <td>02</td>\n",
       "      <td>05</td>\n",
       "    </tr>\n",
       "  </tbody>\n",
       "</table>\n",
       "</div>"
      ],
      "text/plain": [
       "   numero      nombre    longitud    latitud                fecha  tmin   Año  \\\n",
       "0       2  La Mirinda -102.251778  22.248528  2013-02-01 00:00:00   8.2  2013   \n",
       "1       2  La Mirinda -102.251778  22.248528  2013-02-02 00:00:00   4.6  2013   \n",
       "2       2  La Mirinda -102.251778  22.248528  2013-02-03 00:00:00   0.3  2013   \n",
       "3       2  La Mirinda -102.251778  22.248528  2013-02-04 00:00:00   1.6  2013   \n",
       "4       2  La Mirinda -102.251778  22.248528  2013-02-05 00:00:00   0.6  2013   \n",
       "\n",
       "  Mes Día  \n",
       "0  02  01  \n",
       "1  02  02  \n",
       "2  02  03  \n",
       "3  02  04  \n",
       "4  02  05  "
      ]
     },
     "execution_count": 52,
     "metadata": {},
     "output_type": "execute_result"
    }
   ],
   "source": [
    "# integridad db\n",
    "data.head()"
   ]
  },
  {
   "cell_type": "code",
   "execution_count": 53,
   "metadata": {
    "collapsed": true
   },
   "outputs": [],
   "source": [
    "data['Estación'] = data.apply(lambda x: generarEstacion(x['Mes'], x['Día']), axis=1)"
   ]
  },
  {
   "cell_type": "code",
   "execution_count": 54,
   "metadata": {},
   "outputs": [
    {
     "data": {
      "text/html": [
       "<div>\n",
       "<style>\n",
       "    .dataframe thead tr:only-child th {\n",
       "        text-align: right;\n",
       "    }\n",
       "\n",
       "    .dataframe thead th {\n",
       "        text-align: left;\n",
       "    }\n",
       "\n",
       "    .dataframe tbody tr th {\n",
       "        vertical-align: top;\n",
       "    }\n",
       "</style>\n",
       "<table border=\"1\" class=\"dataframe\">\n",
       "  <thead>\n",
       "    <tr style=\"text-align: right;\">\n",
       "      <th></th>\n",
       "      <th>numero</th>\n",
       "      <th>nombre</th>\n",
       "      <th>longitud</th>\n",
       "      <th>latitud</th>\n",
       "      <th>fecha</th>\n",
       "      <th>tmin</th>\n",
       "      <th>Año</th>\n",
       "      <th>Mes</th>\n",
       "      <th>Día</th>\n",
       "      <th>Estación</th>\n",
       "    </tr>\n",
       "  </thead>\n",
       "  <tbody>\n",
       "    <tr>\n",
       "      <th>0</th>\n",
       "      <td>2</td>\n",
       "      <td>La Mirinda</td>\n",
       "      <td>-102.251778</td>\n",
       "      <td>22.248528</td>\n",
       "      <td>2013-02-01 00:00:00</td>\n",
       "      <td>8.2</td>\n",
       "      <td>2013</td>\n",
       "      <td>02</td>\n",
       "      <td>01</td>\n",
       "      <td>Invierno</td>\n",
       "    </tr>\n",
       "    <tr>\n",
       "      <th>1</th>\n",
       "      <td>2</td>\n",
       "      <td>La Mirinda</td>\n",
       "      <td>-102.251778</td>\n",
       "      <td>22.248528</td>\n",
       "      <td>2013-02-02 00:00:00</td>\n",
       "      <td>4.6</td>\n",
       "      <td>2013</td>\n",
       "      <td>02</td>\n",
       "      <td>02</td>\n",
       "      <td>Invierno</td>\n",
       "    </tr>\n",
       "    <tr>\n",
       "      <th>2</th>\n",
       "      <td>2</td>\n",
       "      <td>La Mirinda</td>\n",
       "      <td>-102.251778</td>\n",
       "      <td>22.248528</td>\n",
       "      <td>2013-02-03 00:00:00</td>\n",
       "      <td>0.3</td>\n",
       "      <td>2013</td>\n",
       "      <td>02</td>\n",
       "      <td>03</td>\n",
       "      <td>Invierno</td>\n",
       "    </tr>\n",
       "    <tr>\n",
       "      <th>3</th>\n",
       "      <td>2</td>\n",
       "      <td>La Mirinda</td>\n",
       "      <td>-102.251778</td>\n",
       "      <td>22.248528</td>\n",
       "      <td>2013-02-04 00:00:00</td>\n",
       "      <td>1.6</td>\n",
       "      <td>2013</td>\n",
       "      <td>02</td>\n",
       "      <td>04</td>\n",
       "      <td>Invierno</td>\n",
       "    </tr>\n",
       "    <tr>\n",
       "      <th>4</th>\n",
       "      <td>2</td>\n",
       "      <td>La Mirinda</td>\n",
       "      <td>-102.251778</td>\n",
       "      <td>22.248528</td>\n",
       "      <td>2013-02-05 00:00:00</td>\n",
       "      <td>0.6</td>\n",
       "      <td>2013</td>\n",
       "      <td>02</td>\n",
       "      <td>05</td>\n",
       "      <td>Invierno</td>\n",
       "    </tr>\n",
       "  </tbody>\n",
       "</table>\n",
       "</div>"
      ],
      "text/plain": [
       "   numero      nombre    longitud    latitud                fecha  tmin   Año  \\\n",
       "0       2  La Mirinda -102.251778  22.248528  2013-02-01 00:00:00   8.2  2013   \n",
       "1       2  La Mirinda -102.251778  22.248528  2013-02-02 00:00:00   4.6  2013   \n",
       "2       2  La Mirinda -102.251778  22.248528  2013-02-03 00:00:00   0.3  2013   \n",
       "3       2  La Mirinda -102.251778  22.248528  2013-02-04 00:00:00   1.6  2013   \n",
       "4       2  La Mirinda -102.251778  22.248528  2013-02-05 00:00:00   0.6  2013   \n",
       "\n",
       "  Mes Día  Estación  \n",
       "0  02  01  Invierno  \n",
       "1  02  02  Invierno  \n",
       "2  02  03  Invierno  \n",
       "3  02  04  Invierno  \n",
       "4  02  05  Invierno  "
      ]
     },
     "execution_count": 54,
     "metadata": {},
     "output_type": "execute_result"
    }
   ],
   "source": [
    "# estructura bd\n",
    "data.head()"
   ]
  },
  {
   "cell_type": "code",
   "execution_count": 55,
   "metadata": {
    "collapsed": true
   },
   "outputs": [],
   "source": [
    "# filtrar información\n",
    "data = data.loc[data['Estación'] == 'Invierno']"
   ]
  },
  {
   "cell_type": "markdown",
   "metadata": {},
   "source": [
    "## Tmin"
   ]
  },
  {
   "cell_type": "code",
   "execution_count": 56,
   "metadata": {},
   "outputs": [
    {
     "data": {
      "text/plain": [
       "Año\n",
       "1997    3.918182\n",
       "1998    4.745455\n",
       "1999    5.151562\n",
       "2000    6.125131\n",
       "2001    8.823200\n",
       "2002    4.706046\n",
       "2003    5.018102\n",
       "2004    4.589177\n",
       "2005    4.734400\n",
       "2006    5.441257\n",
       "2007    7.849633\n",
       "2008    7.621620\n",
       "2009    8.880452\n",
       "2010    8.711182\n",
       "2011    8.355837\n",
       "2012    9.226624\n",
       "2013    7.835983\n",
       "2014    7.765035\n",
       "2015    8.612380\n",
       "2016    7.349264\n",
       "2017    7.494330\n",
       "2018    5.816897\n",
       "Name: tmin, dtype: float64"
      ]
     },
     "execution_count": 56,
     "metadata": {},
     "output_type": "execute_result"
    }
   ],
   "source": [
    "# media de tmin anual\n",
    "plt.style.use('ggplot')\n",
    "data.groupby('Año').mean()['tmin']"
   ]
  },
  {
   "cell_type": "code",
   "execution_count": 57,
   "metadata": {},
   "outputs": [
    {
     "data": {
      "text/plain": [
       "<matplotlib.axes._subplots.AxesSubplot at 0x13a3c88d0>"
      ]
     },
     "execution_count": 57,
     "metadata": {},
     "output_type": "execute_result"
    },
    {
     "data": {
      "image/png": "[encoded data removed]",
      "text/plain": [
       "<matplotlib.figure.Figure at 0x13a3c80b8>"
      ]
     },
     "metadata": {},
     "output_type": "display_data"
    }
   ],
   "source": [
    "data.groupby('Año').mean()['tmin'].plot.bar(figsize=(10,5))"
   ]
  },
  {
   "cell_type": "code",
   "execution_count": 58,
   "metadata": {},
   "outputs": [
    {
     "data": {
      "text/plain": [
       "<matplotlib.axes._subplots.AxesSubplot at 0x15d092630>"
      ]
     },
     "execution_count": 58,
     "metadata": {},
     "output_type": "execute_result"
    },
    {
     "data": {
      "image/png": "[encoded data removed]",
      "text/plain": [
       "<matplotlib.figure.Figure at 0x148ed0208>"
      ]
     },
     "metadata": {},
     "output_type": "display_data"
    }
   ],
   "source": [
    "data['tmin'].hist(bins=50)"
   ]
  },
  {
   "cell_type": "code",
   "execution_count": 59,
   "metadata": {
    "collapsed": true
   },
   "outputs": [],
   "source": [
    "dataAnio = data.groupby(['longitud','latitud','Año']).mean()['tmin']"
   ]
  },
  {
   "cell_type": "code",
   "execution_count": 60,
   "metadata": {},
   "outputs": [
    {
     "data": {
      "text/plain": [
       "longitud     latitud    Año \n",
       "-116.860285  32.101629  2015    5.353636\n",
       "                        2016    7.854186\n",
       "                        2017    6.785385\n",
       "                        2018    8.389667\n",
       "-116.161000  31.252000  2015    2.527273\n",
       "Name: tmin, dtype: float64"
      ]
     },
     "execution_count": 60,
     "metadata": {},
     "output_type": "execute_result"
    }
   ],
   "source": [
    "dataAnio.head()"
   ]
  },
  {
   "cell_type": "code",
   "execution_count": 61,
   "metadata": {
    "collapsed": true
   },
   "outputs": [],
   "source": [
    "dataAnio.to_csv('data/dataPorUbicacion_Anios.csv')"
   ]
  },
  {
   "cell_type": "code",
   "execution_count": 66,
   "metadata": {},
   "outputs": [],
   "source": [
    "dataA = pd.read_csv('data/dataPorUbicacion_Anios.csv', header=None)"
   ]
  },
  {
   "cell_type": "code",
   "execution_count": 67,
   "metadata": {},
   "outputs": [
    {
     "data": {
      "text/html": [
       "<div>\n",
       "<style>\n",
       "    .dataframe thead tr:only-child th {\n",
       "        text-align: right;\n",
       "    }\n",
       "\n",
       "    .dataframe thead th {\n",
       "        text-align: left;\n",
       "    }\n",
       "\n",
       "    .dataframe tbody tr th {\n",
       "        vertical-align: top;\n",
       "    }\n",
       "</style>\n",
       "<table border=\"1\" class=\"dataframe\">\n",
       "  <thead>\n",
       "    <tr style=\"text-align: right;\">\n",
       "      <th></th>\n",
       "      <th>0</th>\n",
       "      <th>1</th>\n",
       "      <th>2</th>\n",
       "      <th>3</th>\n",
       "    </tr>\n",
       "  </thead>\n",
       "  <tbody>\n",
       "    <tr>\n",
       "      <th>0</th>\n",
       "      <td>-116.860285</td>\n",
       "      <td>32.101629</td>\n",
       "      <td>2015</td>\n",
       "      <td>5.353636</td>\n",
       "    </tr>\n",
       "    <tr>\n",
       "      <th>1</th>\n",
       "      <td>-116.860285</td>\n",
       "      <td>32.101629</td>\n",
       "      <td>2016</td>\n",
       "      <td>7.854186</td>\n",
       "    </tr>\n",
       "    <tr>\n",
       "      <th>2</th>\n",
       "      <td>-116.860285</td>\n",
       "      <td>32.101629</td>\n",
       "      <td>2017</td>\n",
       "      <td>6.785385</td>\n",
       "    </tr>\n",
       "    <tr>\n",
       "      <th>3</th>\n",
       "      <td>-116.860285</td>\n",
       "      <td>32.101629</td>\n",
       "      <td>2018</td>\n",
       "      <td>8.389667</td>\n",
       "    </tr>\n",
       "    <tr>\n",
       "      <th>4</th>\n",
       "      <td>-116.161000</td>\n",
       "      <td>31.252000</td>\n",
       "      <td>2015</td>\n",
       "      <td>2.527273</td>\n",
       "    </tr>\n",
       "  </tbody>\n",
       "</table>\n",
       "</div>"
      ],
      "text/plain": [
       "            0          1     2         3\n",
       "0 -116.860285  32.101629  2015  5.353636\n",
       "1 -116.860285  32.101629  2016  7.854186\n",
       "2 -116.860285  32.101629  2017  6.785385\n",
       "3 -116.860285  32.101629  2018  8.389667\n",
       "4 -116.161000  31.252000  2015  2.527273"
      ]
     },
     "execution_count": 67,
     "metadata": {},
     "output_type": "execute_result"
    }
   ],
   "source": [
    "dataA.head()"
   ]
  },
  {
   "cell_type": "code",
   "execution_count": 68,
   "metadata": {
    "collapsed": true
   },
   "outputs": [],
   "source": [
    "cols = ['longitud','latitud','Año','Tmin']"
   ]
  },
  {
   "cell_type": "code",
   "execution_count": 71,
   "metadata": {
    "collapsed": true
   },
   "outputs": [],
   "source": [
    "dataA.columns = cols"
   ]
  },
  {
   "cell_type": "code",
   "execution_count": 72,
   "metadata": {
    "collapsed": true
   },
   "outputs": [],
   "source": [
    "# límites del mapas\n",
    "LONG_MAX = -86.1010\n",
    "LONG_MIN = -118.2360\n",
    "LAT_MAX = 33.5791\n",
    "LAT_MIN = 12.37"
   ]
  },
  {
   "cell_type": "code",
   "execution_count": 75,
   "metadata": {},
   "outputs": [
    {
     "name": "stderr",
     "output_type": "stream",
     "text": [
      "/Users/jorgemauricio/anaconda/lib/python3.6/site-packages/matplotlib/pyplot.py:528: RuntimeWarning: More than 20 figures have been opened. Figures created through the pyplot interface (`matplotlib.pyplot.figure`) are retained until explicitly closed and may consume too much memory. (To control this warning, see the rcParam `figure.max_open_warning`).\n",
      "  max_open_warning, RuntimeWarning)\n"
     ]
    },
    {
     "data": {
      "text/plain": [
       "<matplotlib.figure.Figure at 0x18634ba58>"
      ]
     },
     "metadata": {},
     "output_type": "display_data"
    },
    {
     "data": {
      "text/plain": [
       "<matplotlib.figure.Figure at 0x18634b780>"
      ]
     },
     "metadata": {},
     "output_type": "display_data"
    },
    {
     "data": {
      "text/plain": [
       "<matplotlib.figure.Figure at 0x18634b160>"
      ]
     },
     "metadata": {},
     "output_type": "display_data"
    },
    {
     "data": {
      "text/plain": [
       "<matplotlib.figure.Figure at 0x186251358>"
      ]
     },
     "metadata": {},
     "output_type": "display_data"
    },
    {
     "data": {
      "text/plain": [
       "<matplotlib.figure.Figure at 0x186279668>"
      ]
     },
     "metadata": {},
     "output_type": "display_data"
    },
    {
     "data": {
      "text/plain": [
       "<matplotlib.figure.Figure at 0x1861d78d0>"
      ]
     },
     "metadata": {},
     "output_type": "display_data"
    },
    {
     "data": {
      "text/plain": [
       "<matplotlib.figure.Figure at 0x1861d2da0>"
      ]
     },
     "metadata": {},
     "output_type": "display_data"
    },
    {
     "data": {
      "text/plain": [
       "<matplotlib.figure.Figure at 0x18614e3c8>"
      ]
     },
     "metadata": {},
     "output_type": "display_data"
    },
    {
     "data": {
      "text/plain": [
       "<matplotlib.figure.Figure at 0x18611b4a8>"
      ]
     },
     "metadata": {},
     "output_type": "display_data"
    },
    {
     "data": {
      "text/plain": [
       "<matplotlib.figure.Figure at 0x1860b68d0>"
      ]
     },
     "metadata": {},
     "output_type": "display_data"
    },
    {
     "data": {
      "text/plain": [
       "<matplotlib.figure.Figure at 0x18644fcf8>"
      ]
     },
     "metadata": {},
     "output_type": "display_data"
    },
    {
     "data": {
      "text/plain": [
       "<matplotlib.figure.Figure at 0x186070cf8>"
      ]
     },
     "metadata": {},
     "output_type": "display_data"
    },
    {
     "data": {
      "text/plain": [
       "<matplotlib.figure.Figure at 0x18647f898>"
      ]
     },
     "metadata": {},
     "output_type": "display_data"
    },
    {
     "data": {
      "text/plain": [
       "<matplotlib.figure.Figure at 0x186242278>"
      ]
     },
     "metadata": {},
     "output_type": "display_data"
    },
    {
     "data": {
      "text/plain": [
       "<matplotlib.figure.Figure at 0x18630d4a8>"
      ]
     },
     "metadata": {},
     "output_type": "display_data"
    },
    {
     "data": {
      "text/plain": [
       "<matplotlib.figure.Figure at 0x186034320>"
      ]
     },
     "metadata": {},
     "output_type": "display_data"
    },
    {
     "data": {
      "text/plain": [
       "<matplotlib.figure.Figure at 0x18601eeb8>"
      ]
     },
     "metadata": {},
     "output_type": "display_data"
    },
    {
     "data": {
      "text/plain": [
       "<matplotlib.figure.Figure at 0x18611cf28>"
      ]
     },
     "metadata": {},
     "output_type": "display_data"
    },
    {
     "data": {
      "text/plain": [
       "<matplotlib.figure.Figure at 0x1864dd240>"
      ]
     },
     "metadata": {},
     "output_type": "display_data"
    },
    {
     "data": {
      "text/plain": [
       "<matplotlib.figure.Figure at 0x186454748>"
      ]
     },
     "metadata": {},
     "output_type": "display_data"
    },
    {
     "data": {
      "text/plain": [
       "<matplotlib.figure.Figure at 0x186534080>"
      ]
     },
     "metadata": {},
     "output_type": "display_data"
    },
    {
     "data": {
      "text/plain": [
       "<matplotlib.figure.Figure at 0x1863f6b38>"
      ]
     },
     "metadata": {},
     "output_type": "display_data"
    },
    {
     "data": {
      "image/png": "[encoded data removed]",
      "text/plain": [
       "<matplotlib.figure.Figure at 0x18650e5c0>"
      ]
     },
     "metadata": {},
     "output_type": "display_data"
    }
   ],
   "source": [
    "for i in dataA['Año'].unique():\n",
    "    # configuración del mapas\n",
    "    plt.clf()\n",
    "    fig = plt.figure(figsize=(8,4))\n",
    "    m = Basemap(projection='mill',llcrnrlat=LAT_MIN,urcrnrlat=LAT_MAX,llcrnrlon=LONG_MIN,urcrnrlon=LONG_MAX,resolution='h')\n",
    "\n",
    "    # filtrar información por años\n",
    "    dataTemporal = dataA.loc[dataA['Año'] == i]\n",
    "    x = np.array(dataTemporal['longitud'])\n",
    "    y = np.array(dataTemporal['latitud'])\n",
    "    z = np.array(dataTemporal['Tmin'])\n",
    "\n",
    "    # agregar shapes\n",
    "    m.readshapefile('shapes/Estados', 'Estados')\n",
    "\n",
    "    # agregar puntos\n",
    "    m.scatter(x,y, latlon=True, s=3,c=z, cmap='Blues_r')\n",
    "\n",
    "    # crear anotación\n",
    "    latitudAnotacion = (LAT_MAX + LAT_MIN) / 2\n",
    "    longitudAnotacion = (LONG_MAX + LONG_MIN) / 2\n",
    "    plt.annotate('@2018 INIFAP', xy=(longitudAnotacion,latitudAnotacion), xycoords='figure fraction', xytext=(0.45,0.45), color='g')\n",
    "    plt.title(f\"Temperatura Mínima Media\\n registrada en el Invierno del {i}\")\n",
    "    plt.colorbar()\n",
    "    temp = f\"maps/Tmin_{i}.png\"\n",
    "    plt.savefig(temp, dpi=300)"
   ]
  },
  {
   "cell_type": "markdown",
   "metadata": {
    "collapsed": true
   },
   "source": [
    "## Imagenes\n",
    "\n",
    "![1997](maps/Tmin_1997.png)"
   ]
  },
  {
   "cell_type": "code",
   "execution_count": null,
   "metadata": {
    "collapsed": true
   },
   "outputs": [],
   "source": []
  }
 ],
 "metadata": {
  "kernelspec": {
   "display_name": "Python 3",
   "language": "python",
   "name": "python3"
  },
  "language_info": {
   "codemirror_mode": {
    "name": "ipython",
    "version": 3
   },
   "file_extension": ".py",
   "mimetype": "text/x-python",
   "name": "python",
   "nbconvert_exporter": "python",
   "pygments_lexer": "ipython3",
   "version": "3.6.4"
  }
 },
 "nbformat": 4,
 "nbformat_minor": 2
}
