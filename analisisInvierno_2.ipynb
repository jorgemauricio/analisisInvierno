{
 "cells": [
  {
   "cell_type": "markdown",
   "metadata": {},
   "source": [
    "# Análisis de temperaturas\n",
    "### Información\n",
    "La base de datos que se va a analizar proviene de la **RNEAA** límitada a los meses de **Noviembre, Diciembre, Enero, Febrero y Marzo**. Se cuentan con datos desde **1 de Diciembre de 1997 hasta el 30 de Enero de 2018**. Se realizó una validación a los datos, se excluyeron aquellos datos que la diferencia absoluta entre la tmin y tmax sea mayor a 20\n",
    "\n"
   ]
  },
  {
   "cell_type": "markdown",
   "metadata": {},
   "source": [
    "## Procesamiento de Información"
   ]
  },
  {
   "cell_type": "code",
   "execution_count": 2,
   "metadata": {},
   "outputs": [
    {
     "name": "stderr",
     "output_type": "stream",
     "text": [
      "/home/jorge/anaconda3/lib/python3.5/site-packages/matplotlib/font_manager.py:279: UserWarning: Matplotlib is building the font cache using fc-list. This may take a moment.\n",
      "  warnings.warn('Matplotlib is building the font cache using fc-list. This may take a moment.')\n",
      "/home/jorge/anaconda3/lib/python3.5/site-packages/matplotlib/font_manager.py:279: UserWarning: Matplotlib is building the font cache using fc-list. This may take a moment.\n",
      "  warnings.warn('Matplotlib is building the font cache using fc-list. This may take a moment.')\n"
     ]
    }
   ],
   "source": [
    "#!/usr/bin/env python3\n",
    "# -*- coding: utf-8 -*-\n",
    "\"\"\"\n",
    "#######################################\n",
    "# Script que permite el análisis del\n",
    "dato de temperatura mínima de la RNEAA\n",
    "# Author: Jorge Mauricio\n",
    "# Email: jorge.ernesto.mauricio@gmail.com\n",
    "# Date: 2018-02-01\n",
    "# Version: 1.0\n",
    "#######################################\n",
    "\"\"\"\n",
    "# librerias\n",
    "import pandas as pd\n",
    "import numpy as np\n",
    "import matplotlib.pyplot as plt\n",
    "from mpl_toolkits.basemap import Basemap\n",
    "%matplotlib inline"
   ]
  },
  {
   "cell_type": "code",
   "execution_count": 3,
   "metadata": {},
   "outputs": [],
   "source": [
    "# funciones\n",
    "def generarAnio(f):\n",
    "\treturn f.split()[0].split('-')[0]\n",
    "\n",
    "# crear columna mes\n",
    "def generarMes(f):\n",
    "\treturn f.split()[0].split('-')[1]\n",
    "\n",
    "# crear columna dia\n",
    "def generarDia(f):\n",
    "\treturn f.split()[0].split('-')[2]\n",
    "\n",
    "# funcion para generar estación meteorologica\n",
    "def generarEstacion(m,d):\n",
    "\tm = int(m)\n",
    "\td = int(d)\n",
    "\tif m == 12:\n",
    "\t\tif d >=21:\n",
    "\t\t\treturn 'Invierno'\n",
    "\t\telse:\n",
    "\t\t\treturn 'Otoño'\n",
    "\tif m == 1:\n",
    "\t\treturn 'Invierno'\n",
    "\tif m == 2:\n",
    "\t\treturn 'Invierno'\n",
    "\tif m == 3:\n",
    "\t\tif d <= 15:\n",
    "\t\t\treturn 'Invierno'\n",
    "\t\telse:\n",
    "\t\t\treturn 'Primavera'"
   ]
  },
  {
   "cell_type": "code",
   "execution_count": 4,
   "metadata": {},
   "outputs": [
    {
     "name": "stderr",
     "output_type": "stream",
     "text": [
      "/home/jorge/anaconda3/lib/python3.5/site-packages/IPython/core/interactiveshell.py:2728: DtypeWarning: Columns (0) have mixed types. Specify dtype option on import or set low_memory=False.\n",
      "  interactivity=interactivity, compiler=compiler, result=result)\n"
     ]
    }
   ],
   "source": [
    "# read csv\n",
    "data = pd.read_csv('data/analisis_invierno_5.csv')"
   ]
  },
  {
   "cell_type": "code",
   "execution_count": 5,
   "metadata": {},
   "outputs": [
    {
     "name": "stdout",
     "output_type": "stream",
     "text": [
      "<class 'pandas.core.frame.DataFrame'>\n",
      "RangeIndex: 2130784 entries, 0 to 2130783\n",
      "Data columns (total 7 columns):\n",
      "numero      object\n",
      "nombre      object\n",
      "longitud    float64\n",
      "latitud     float64\n",
      "fecha       object\n",
      "tmin        float64\n",
      "tmax        float64\n",
      "dtypes: float64(4), object(3)\n",
      "memory usage: 113.8+ MB\n"
     ]
    }
   ],
   "source": [
    "#info df\n",
    "data.info()"
   ]
  },
  {
   "cell_type": "code",
   "execution_count": 6,
   "metadata": {},
   "outputs": [
    {
     "data": {
      "text/plain": [
       "numero      2130784\n",
       "nombre      2130783\n",
       "longitud    2130783\n",
       "latitud     2130783\n",
       "fecha       2130783\n",
       "tmin        2130783\n",
       "tmax        2130783\n",
       "dtype: int64"
      ]
     },
     "execution_count": 6,
     "metadata": {},
     "output_type": "execute_result"
    }
   ],
   "source": [
    "# data count\n",
    "data.count()"
   ]
  },
  {
   "cell_type": "code",
   "execution_count": 7,
   "metadata": {},
   "outputs": [],
   "source": [
    "# eliminar datos nulos\n",
    "data = data.dropna()"
   ]
  },
  {
   "cell_type": "code",
   "execution_count": 8,
   "metadata": {},
   "outputs": [
    {
     "data": {
      "text/html": [
       "<div>\n",
       "<style>\n",
       "    .dataframe thead tr:only-child th {\n",
       "        text-align: right;\n",
       "    }\n",
       "\n",
       "    .dataframe thead th {\n",
       "        text-align: left;\n",
       "    }\n",
       "\n",
       "    .dataframe tbody tr th {\n",
       "        vertical-align: top;\n",
       "    }\n",
       "</style>\n",
       "<table border=\"1\" class=\"dataframe\">\n",
       "  <thead>\n",
       "    <tr style=\"text-align: right;\">\n",
       "      <th></th>\n",
       "      <th>numero</th>\n",
       "      <th>nombre</th>\n",
       "      <th>longitud</th>\n",
       "      <th>latitud</th>\n",
       "      <th>fecha</th>\n",
       "      <th>tmin</th>\n",
       "      <th>tmax</th>\n",
       "    </tr>\n",
       "  </thead>\n",
       "  <tbody>\n",
       "    <tr>\n",
       "      <th>0</th>\n",
       "      <td>2</td>\n",
       "      <td>La Mirinda</td>\n",
       "      <td>-102.251778</td>\n",
       "      <td>22.248528</td>\n",
       "      <td>2013-03-01 00:00:00</td>\n",
       "      <td>0.7</td>\n",
       "      <td>19.8</td>\n",
       "    </tr>\n",
       "    <tr>\n",
       "      <th>1</th>\n",
       "      <td>2</td>\n",
       "      <td>La Mirinda</td>\n",
       "      <td>-102.251778</td>\n",
       "      <td>22.248528</td>\n",
       "      <td>2013-03-09 00:00:00</td>\n",
       "      <td>11.7</td>\n",
       "      <td>26.6</td>\n",
       "    </tr>\n",
       "    <tr>\n",
       "      <th>2</th>\n",
       "      <td>2</td>\n",
       "      <td>La Mirinda</td>\n",
       "      <td>-102.251778</td>\n",
       "      <td>22.248528</td>\n",
       "      <td>2013-03-13 00:00:00</td>\n",
       "      <td>7.9</td>\n",
       "      <td>21.6</td>\n",
       "    </tr>\n",
       "    <tr>\n",
       "      <th>3</th>\n",
       "      <td>2</td>\n",
       "      <td>La Mirinda</td>\n",
       "      <td>-102.251778</td>\n",
       "      <td>22.248528</td>\n",
       "      <td>2013-03-15 00:00:00</td>\n",
       "      <td>5.9</td>\n",
       "      <td>22.7</td>\n",
       "    </tr>\n",
       "    <tr>\n",
       "      <th>4</th>\n",
       "      <td>2</td>\n",
       "      <td>La Mirinda</td>\n",
       "      <td>-102.251778</td>\n",
       "      <td>22.248528</td>\n",
       "      <td>2013-03-16 00:00:00</td>\n",
       "      <td>3.4</td>\n",
       "      <td>23.2</td>\n",
       "    </tr>\n",
       "  </tbody>\n",
       "</table>\n",
       "</div>"
      ],
      "text/plain": [
       "  numero      nombre    longitud    latitud                fecha  tmin  tmax\n",
       "0      2  La Mirinda -102.251778  22.248528  2013-03-01 00:00:00   0.7  19.8\n",
       "1      2  La Mirinda -102.251778  22.248528  2013-03-09 00:00:00  11.7  26.6\n",
       "2      2  La Mirinda -102.251778  22.248528  2013-03-13 00:00:00   7.9  21.6\n",
       "3      2  La Mirinda -102.251778  22.248528  2013-03-15 00:00:00   5.9  22.7\n",
       "4      2  La Mirinda -102.251778  22.248528  2013-03-16 00:00:00   3.4  23.2"
      ]
     },
     "execution_count": 8,
     "metadata": {},
     "output_type": "execute_result"
    }
   ],
   "source": [
    "# integridad del DF\n",
    "data.head()"
   ]
  },
  {
   "cell_type": "code",
   "execution_count": 9,
   "metadata": {},
   "outputs": [],
   "source": [
    "data['Año'] = data.apply(lambda x: generarAnio(x['fecha']), axis=1)"
   ]
  },
  {
   "cell_type": "code",
   "execution_count": 10,
   "metadata": {},
   "outputs": [],
   "source": [
    "data['Mes'] = data.apply(lambda x: generarMes(x['fecha']), axis=1)"
   ]
  },
  {
   "cell_type": "code",
   "execution_count": 11,
   "metadata": {},
   "outputs": [],
   "source": [
    "data['Día'] = data.apply(lambda x: generarDia(x['fecha']), axis=1)"
   ]
  },
  {
   "cell_type": "code",
   "execution_count": 12,
   "metadata": {},
   "outputs": [
    {
     "data": {
      "text/html": [
       "<div>\n",
       "<style>\n",
       "    .dataframe thead tr:only-child th {\n",
       "        text-align: right;\n",
       "    }\n",
       "\n",
       "    .dataframe thead th {\n",
       "        text-align: left;\n",
       "    }\n",
       "\n",
       "    .dataframe tbody tr th {\n",
       "        vertical-align: top;\n",
       "    }\n",
       "</style>\n",
       "<table border=\"1\" class=\"dataframe\">\n",
       "  <thead>\n",
       "    <tr style=\"text-align: right;\">\n",
       "      <th></th>\n",
       "      <th>numero</th>\n",
       "      <th>nombre</th>\n",
       "      <th>longitud</th>\n",
       "      <th>latitud</th>\n",
       "      <th>fecha</th>\n",
       "      <th>tmin</th>\n",
       "      <th>tmax</th>\n",
       "      <th>Año</th>\n",
       "      <th>Mes</th>\n",
       "      <th>Día</th>\n",
       "    </tr>\n",
       "  </thead>\n",
       "  <tbody>\n",
       "    <tr>\n",
       "      <th>0</th>\n",
       "      <td>2</td>\n",
       "      <td>La Mirinda</td>\n",
       "      <td>-102.251778</td>\n",
       "      <td>22.248528</td>\n",
       "      <td>2013-03-01 00:00:00</td>\n",
       "      <td>0.7</td>\n",
       "      <td>19.8</td>\n",
       "      <td>2013</td>\n",
       "      <td>03</td>\n",
       "      <td>01</td>\n",
       "    </tr>\n",
       "    <tr>\n",
       "      <th>1</th>\n",
       "      <td>2</td>\n",
       "      <td>La Mirinda</td>\n",
       "      <td>-102.251778</td>\n",
       "      <td>22.248528</td>\n",
       "      <td>2013-03-09 00:00:00</td>\n",
       "      <td>11.7</td>\n",
       "      <td>26.6</td>\n",
       "      <td>2013</td>\n",
       "      <td>03</td>\n",
       "      <td>09</td>\n",
       "    </tr>\n",
       "    <tr>\n",
       "      <th>2</th>\n",
       "      <td>2</td>\n",
       "      <td>La Mirinda</td>\n",
       "      <td>-102.251778</td>\n",
       "      <td>22.248528</td>\n",
       "      <td>2013-03-13 00:00:00</td>\n",
       "      <td>7.9</td>\n",
       "      <td>21.6</td>\n",
       "      <td>2013</td>\n",
       "      <td>03</td>\n",
       "      <td>13</td>\n",
       "    </tr>\n",
       "    <tr>\n",
       "      <th>3</th>\n",
       "      <td>2</td>\n",
       "      <td>La Mirinda</td>\n",
       "      <td>-102.251778</td>\n",
       "      <td>22.248528</td>\n",
       "      <td>2013-03-15 00:00:00</td>\n",
       "      <td>5.9</td>\n",
       "      <td>22.7</td>\n",
       "      <td>2013</td>\n",
       "      <td>03</td>\n",
       "      <td>15</td>\n",
       "    </tr>\n",
       "    <tr>\n",
       "      <th>4</th>\n",
       "      <td>2</td>\n",
       "      <td>La Mirinda</td>\n",
       "      <td>-102.251778</td>\n",
       "      <td>22.248528</td>\n",
       "      <td>2013-03-16 00:00:00</td>\n",
       "      <td>3.4</td>\n",
       "      <td>23.2</td>\n",
       "      <td>2013</td>\n",
       "      <td>03</td>\n",
       "      <td>16</td>\n",
       "    </tr>\n",
       "  </tbody>\n",
       "</table>\n",
       "</div>"
      ],
      "text/plain": [
       "  numero      nombre    longitud    latitud                fecha  tmin  tmax  \\\n",
       "0      2  La Mirinda -102.251778  22.248528  2013-03-01 00:00:00   0.7  19.8   \n",
       "1      2  La Mirinda -102.251778  22.248528  2013-03-09 00:00:00  11.7  26.6   \n",
       "2      2  La Mirinda -102.251778  22.248528  2013-03-13 00:00:00   7.9  21.6   \n",
       "3      2  La Mirinda -102.251778  22.248528  2013-03-15 00:00:00   5.9  22.7   \n",
       "4      2  La Mirinda -102.251778  22.248528  2013-03-16 00:00:00   3.4  23.2   \n",
       "\n",
       "    Año Mes Día  \n",
       "0  2013  03  01  \n",
       "1  2013  03  09  \n",
       "2  2013  03  13  \n",
       "3  2013  03  15  \n",
       "4  2013  03  16  "
      ]
     },
     "execution_count": 12,
     "metadata": {},
     "output_type": "execute_result"
    }
   ],
   "source": [
    "# integridad db\n",
    "data.head()"
   ]
  },
  {
   "cell_type": "code",
   "execution_count": 13,
   "metadata": {},
   "outputs": [],
   "source": [
    "data['Estación'] = data.apply(lambda x: generarEstacion(x['Mes'], x['Día']), axis=1)"
   ]
  },
  {
   "cell_type": "code",
   "execution_count": 14,
   "metadata": {},
   "outputs": [
    {
     "data": {
      "text/html": [
       "<div>\n",
       "<style>\n",
       "    .dataframe thead tr:only-child th {\n",
       "        text-align: right;\n",
       "    }\n",
       "\n",
       "    .dataframe thead th {\n",
       "        text-align: left;\n",
       "    }\n",
       "\n",
       "    .dataframe tbody tr th {\n",
       "        vertical-align: top;\n",
       "    }\n",
       "</style>\n",
       "<table border=\"1\" class=\"dataframe\">\n",
       "  <thead>\n",
       "    <tr style=\"text-align: right;\">\n",
       "      <th></th>\n",
       "      <th>numero</th>\n",
       "      <th>nombre</th>\n",
       "      <th>longitud</th>\n",
       "      <th>latitud</th>\n",
       "      <th>fecha</th>\n",
       "      <th>tmin</th>\n",
       "      <th>tmax</th>\n",
       "      <th>Año</th>\n",
       "      <th>Mes</th>\n",
       "      <th>Día</th>\n",
       "      <th>Estación</th>\n",
       "    </tr>\n",
       "  </thead>\n",
       "  <tbody>\n",
       "    <tr>\n",
       "      <th>0</th>\n",
       "      <td>2</td>\n",
       "      <td>La Mirinda</td>\n",
       "      <td>-102.251778</td>\n",
       "      <td>22.248528</td>\n",
       "      <td>2013-03-01 00:00:00</td>\n",
       "      <td>0.7</td>\n",
       "      <td>19.8</td>\n",
       "      <td>2013</td>\n",
       "      <td>03</td>\n",
       "      <td>01</td>\n",
       "      <td>Invierno</td>\n",
       "    </tr>\n",
       "    <tr>\n",
       "      <th>1</th>\n",
       "      <td>2</td>\n",
       "      <td>La Mirinda</td>\n",
       "      <td>-102.251778</td>\n",
       "      <td>22.248528</td>\n",
       "      <td>2013-03-09 00:00:00</td>\n",
       "      <td>11.7</td>\n",
       "      <td>26.6</td>\n",
       "      <td>2013</td>\n",
       "      <td>03</td>\n",
       "      <td>09</td>\n",
       "      <td>Invierno</td>\n",
       "    </tr>\n",
       "    <tr>\n",
       "      <th>2</th>\n",
       "      <td>2</td>\n",
       "      <td>La Mirinda</td>\n",
       "      <td>-102.251778</td>\n",
       "      <td>22.248528</td>\n",
       "      <td>2013-03-13 00:00:00</td>\n",
       "      <td>7.9</td>\n",
       "      <td>21.6</td>\n",
       "      <td>2013</td>\n",
       "      <td>03</td>\n",
       "      <td>13</td>\n",
       "      <td>Invierno</td>\n",
       "    </tr>\n",
       "    <tr>\n",
       "      <th>3</th>\n",
       "      <td>2</td>\n",
       "      <td>La Mirinda</td>\n",
       "      <td>-102.251778</td>\n",
       "      <td>22.248528</td>\n",
       "      <td>2013-03-15 00:00:00</td>\n",
       "      <td>5.9</td>\n",
       "      <td>22.7</td>\n",
       "      <td>2013</td>\n",
       "      <td>03</td>\n",
       "      <td>15</td>\n",
       "      <td>Invierno</td>\n",
       "    </tr>\n",
       "    <tr>\n",
       "      <th>4</th>\n",
       "      <td>2</td>\n",
       "      <td>La Mirinda</td>\n",
       "      <td>-102.251778</td>\n",
       "      <td>22.248528</td>\n",
       "      <td>2013-03-16 00:00:00</td>\n",
       "      <td>3.4</td>\n",
       "      <td>23.2</td>\n",
       "      <td>2013</td>\n",
       "      <td>03</td>\n",
       "      <td>16</td>\n",
       "      <td>Primavera</td>\n",
       "    </tr>\n",
       "  </tbody>\n",
       "</table>\n",
       "</div>"
      ],
      "text/plain": [
       "  numero      nombre    longitud    latitud                fecha  tmin  tmax  \\\n",
       "0      2  La Mirinda -102.251778  22.248528  2013-03-01 00:00:00   0.7  19.8   \n",
       "1      2  La Mirinda -102.251778  22.248528  2013-03-09 00:00:00  11.7  26.6   \n",
       "2      2  La Mirinda -102.251778  22.248528  2013-03-13 00:00:00   7.9  21.6   \n",
       "3      2  La Mirinda -102.251778  22.248528  2013-03-15 00:00:00   5.9  22.7   \n",
       "4      2  La Mirinda -102.251778  22.248528  2013-03-16 00:00:00   3.4  23.2   \n",
       "\n",
       "    Año Mes Día   Estación  \n",
       "0  2013  03  01   Invierno  \n",
       "1  2013  03  09   Invierno  \n",
       "2  2013  03  13   Invierno  \n",
       "3  2013  03  15   Invierno  \n",
       "4  2013  03  16  Primavera  "
      ]
     },
     "execution_count": 14,
     "metadata": {},
     "output_type": "execute_result"
    }
   ],
   "source": [
    "# estructura bd\n",
    "data.head()"
   ]
  },
  {
   "cell_type": "code",
   "execution_count": 15,
   "metadata": {},
   "outputs": [],
   "source": [
    "# filtrar información\n",
    "data = data.loc[data['Estación'] == 'Invierno']"
   ]
  },
  {
   "cell_type": "code",
   "execution_count": 16,
   "metadata": {},
   "outputs": [],
   "source": [
    "# filtrar información aberrante tmin menor\n",
    "data = data.loc[data['tmin'] >= -10]"
   ]
  },
  {
   "cell_type": "code",
   "execution_count": 17,
   "metadata": {},
   "outputs": [],
   "source": [
    "# filtrar información aberrante tmin mayor\n",
    "data = data.loc[data['tmin'] <= 15]"
   ]
  },
  {
   "cell_type": "markdown",
   "metadata": {},
   "source": [
    "## Tmin"
   ]
  },
  {
   "cell_type": "code",
   "execution_count": 18,
   "metadata": {},
   "outputs": [
    {
     "data": {
      "text/plain": [
       "Año\n",
       "1997    3.760000\n",
       "1998    5.503704\n",
       "1999    6.392576\n",
       "2000    7.212903\n",
       "2001    9.765000\n",
       "2002    6.364935\n",
       "2003    7.142339\n",
       "2004    6.289672\n",
       "2005    6.912918\n",
       "2006    7.016932\n",
       "2007    7.470029\n",
       "2008    7.762511\n",
       "2009    8.712177\n",
       "2010    8.056472\n",
       "2011    8.123839\n",
       "2012    8.104146\n",
       "2013    7.021567\n",
       "2014    7.324239\n",
       "2015    7.579147\n",
       "2016    6.922933\n",
       "2017    7.449120\n",
       "2018    6.535907\n",
       "Name: tmin, dtype: float64"
      ]
     },
     "execution_count": 18,
     "metadata": {},
     "output_type": "execute_result"
    }
   ],
   "source": [
    "# media de tmin anual\n",
    "plt.style.use('ggplot')\n",
    "data.groupby('Año').mean()['tmin']"
   ]
  },
  {
   "cell_type": "code",
   "execution_count": 19,
   "metadata": {},
   "outputs": [
    {
     "data": {
      "text/plain": [
       "<matplotlib.axes._subplots.AxesSubplot at 0x7fb3a2636198>"
      ]
     },
     "execution_count": 19,
     "metadata": {},
     "output_type": "execute_result"
    },
    {
     "data": {
      "image/png": "[encoded data removed]",
      "text/plain": [
       "<matplotlib.figure.Figure at 0x7fb3ada949e8>"
      ]
     },
     "metadata": {},
     "output_type": "display_data"
    }
   ],
   "source": [
    "data.groupby('Año').mean()['tmin'].plot.bar(figsize=(10,5))"
   ]
  },
  {
   "cell_type": "code",
   "execution_count": 20,
   "metadata": {},
   "outputs": [
    {
     "data": {
      "text/plain": [
       "<matplotlib.axes._subplots.AxesSubplot at 0x7fb3dc135f60>"
      ]
     },
     "execution_count": 20,
     "metadata": {},
     "output_type": "execute_result"
    },
    {
     "data": {
      "image/png": "[encoded data removed]",
      "text/plain": [
       "<matplotlib.figure.Figure at 0x7fb3981adeb8>"
      ]
     },
     "metadata": {},
     "output_type": "display_data"
    }
   ],
   "source": [
    "data['tmin'].hist(bins=50)"
   ]
  },
  {
   "cell_type": "code",
   "execution_count": 21,
   "metadata": {},
   "outputs": [],
   "source": [
    "dataAnio = data.groupby(['longitud','latitud','Año']).mean()['tmin']"
   ]
  },
  {
   "cell_type": "code",
   "execution_count": 22,
   "metadata": {},
   "outputs": [
    {
     "data": {
      "text/plain": [
       "longitud     latitud    Año \n",
       "-116.860285  32.101629  2015    5.353636\n",
       "                        2016    7.544625\n",
       "                        2017    6.793226\n",
       "                        2018    7.586875\n",
       "-116.161000  31.252000  2015    2.527273\n",
       "Name: tmin, dtype: float64"
      ]
     },
     "execution_count": 22,
     "metadata": {},
     "output_type": "execute_result"
    }
   ],
   "source": [
    "dataAnio.head()"
   ]
  },
  {
   "cell_type": "code",
   "execution_count": 23,
   "metadata": {},
   "outputs": [],
   "source": [
    "dataAnio.to_csv('data/dataPorUbicacion_Anios_tmin.csv')"
   ]
  },
  {
   "cell_type": "code",
   "execution_count": 24,
   "metadata": {},
   "outputs": [],
   "source": [
    "dataA = pd.read_csv('data/dataPorUbicacion_Anios_tmin.csv', header=None)"
   ]
  },
  {
   "cell_type": "code",
   "execution_count": 25,
   "metadata": {},
   "outputs": [
    {
     "data": {
      "text/html": [
       "<div>\n",
       "<style>\n",
       "    .dataframe thead tr:only-child th {\n",
       "        text-align: right;\n",
       "    }\n",
       "\n",
       "    .dataframe thead th {\n",
       "        text-align: left;\n",
       "    }\n",
       "\n",
       "    .dataframe tbody tr th {\n",
       "        vertical-align: top;\n",
       "    }\n",
       "</style>\n",
       "<table border=\"1\" class=\"dataframe\">\n",
       "  <thead>\n",
       "    <tr style=\"text-align: right;\">\n",
       "      <th></th>\n",
       "      <th>0</th>\n",
       "      <th>1</th>\n",
       "      <th>2</th>\n",
       "      <th>3</th>\n",
       "    </tr>\n",
       "  </thead>\n",
       "  <tbody>\n",
       "    <tr>\n",
       "      <th>0</th>\n",
       "      <td>-116.860285</td>\n",
       "      <td>32.101629</td>\n",
       "      <td>2015</td>\n",
       "      <td>5.353636</td>\n",
       "    </tr>\n",
       "    <tr>\n",
       "      <th>1</th>\n",
       "      <td>-116.860285</td>\n",
       "      <td>32.101629</td>\n",
       "      <td>2016</td>\n",
       "      <td>7.544625</td>\n",
       "    </tr>\n",
       "    <tr>\n",
       "      <th>2</th>\n",
       "      <td>-116.860285</td>\n",
       "      <td>32.101629</td>\n",
       "      <td>2017</td>\n",
       "      <td>6.793226</td>\n",
       "    </tr>\n",
       "    <tr>\n",
       "      <th>3</th>\n",
       "      <td>-116.860285</td>\n",
       "      <td>32.101629</td>\n",
       "      <td>2018</td>\n",
       "      <td>7.586875</td>\n",
       "    </tr>\n",
       "    <tr>\n",
       "      <th>4</th>\n",
       "      <td>-116.161000</td>\n",
       "      <td>31.252000</td>\n",
       "      <td>2015</td>\n",
       "      <td>2.527273</td>\n",
       "    </tr>\n",
       "  </tbody>\n",
       "</table>\n",
       "</div>"
      ],
      "text/plain": [
       "            0          1     2         3\n",
       "0 -116.860285  32.101629  2015  5.353636\n",
       "1 -116.860285  32.101629  2016  7.544625\n",
       "2 -116.860285  32.101629  2017  6.793226\n",
       "3 -116.860285  32.101629  2018  7.586875\n",
       "4 -116.161000  31.252000  2015  2.527273"
      ]
     },
     "execution_count": 25,
     "metadata": {},
     "output_type": "execute_result"
    }
   ],
   "source": [
    "dataA.head()"
   ]
  },
  {
   "cell_type": "code",
   "execution_count": 26,
   "metadata": {},
   "outputs": [],
   "source": [
    "cols = ['longitud','latitud','Año','Tmin']"
   ]
  },
  {
   "cell_type": "code",
   "execution_count": 27,
   "metadata": {},
   "outputs": [],
   "source": [
    "dataA.columns = cols"
   ]
  },
  {
   "cell_type": "code",
   "execution_count": 28,
   "metadata": {},
   "outputs": [],
   "source": [
    "# límites del mapas\n",
    "LONG_MAX = -86.1010\n",
    "LONG_MIN = -118.2360\n",
    "LAT_MAX = 33.5791\n",
    "LAT_MIN = 12.37"
   ]
  },
  {
   "cell_type": "code",
   "execution_count": 29,
   "metadata": {},
   "outputs": [
    {
     "name": "stderr",
     "output_type": "stream",
     "text": [
      "/home/jorge/anaconda3/lib/python3.5/site-packages/matplotlib/pyplot.py:515: RuntimeWarning: More than 20 figures have been opened. Figures created through the pyplot interface (`matplotlib.pyplot.figure`) are retained until explicitly closed and may consume too much memory. (To control this warning, see the rcParam `figure.max_open_warning`).\n",
      "  max_open_warning, RuntimeWarning)\n"
     ]
    },
    {
     "data": {
      "text/plain": [
       "<matplotlib.figure.Figure at 0x7fb3caecb7b8>"
      ]
     },
     "metadata": {},
     "output_type": "display_data"
    },
    {
     "data": {
      "text/plain": [
       "<matplotlib.figure.Figure at 0x7fb3caed1a58>"
      ]
     },
     "metadata": {},
     "output_type": "display_data"
    },
    {
     "data": {
      "text/plain": [
       "<matplotlib.figure.Figure at 0x7fb39826f438>"
      ]
     },
     "metadata": {},
     "output_type": "display_data"
    },
    {
     "data": {
      "text/plain": [
       "<matplotlib.figure.Figure at 0x7fb3982cec18>"
      ]
     },
     "metadata": {},
     "output_type": "display_data"
    },
    {
     "data": {
      "text/plain": [
       "<matplotlib.figure.Figure at 0x7fb398346d68>"
      ]
     },
     "metadata": {},
     "output_type": "display_data"
    },
    {
     "data": {
      "text/plain": [
       "<matplotlib.figure.Figure at 0x7fb3983f1fd0>"
      ]
     },
     "metadata": {},
     "output_type": "display_data"
    },
    {
     "data": {
      "text/plain": [
       "<matplotlib.figure.Figure at 0x7fb398421a20>"
      ]
     },
     "metadata": {},
     "output_type": "display_data"
    },
    {
     "data": {
      "text/plain": [
       "<matplotlib.figure.Figure at 0x7fb3982a2d30>"
      ]
     },
     "metadata": {},
     "output_type": "display_data"
    },
    {
     "data": {
      "text/plain": [
       "<matplotlib.figure.Figure at 0x7fb398494390>"
      ]
     },
     "metadata": {},
     "output_type": "display_data"
    },
    {
     "data": {
      "text/plain": [
       "<matplotlib.figure.Figure at 0x7fb398561d68>"
      ]
     },
     "metadata": {},
     "output_type": "display_data"
    },
    {
     "data": {
      "text/plain": [
       "<matplotlib.figure.Figure at 0x7fb3983d6400>"
      ]
     },
     "metadata": {},
     "output_type": "display_data"
    },
    {
     "data": {
      "text/plain": [
       "<matplotlib.figure.Figure at 0x7fb39840fb70>"
      ]
     },
     "metadata": {},
     "output_type": "display_data"
    },
    {
     "data": {
      "text/plain": [
       "<matplotlib.figure.Figure at 0x7fb3982870f0>"
      ]
     },
     "metadata": {},
     "output_type": "display_data"
    },
    {
     "data": {
      "text/plain": [
       "<matplotlib.figure.Figure at 0x7fb398475128>"
      ]
     },
     "metadata": {},
     "output_type": "display_data"
    },
    {
     "data": {
      "text/plain": [
       "<matplotlib.figure.Figure at 0x7fb398555588>"
      ]
     },
     "metadata": {},
     "output_type": "display_data"
    },
    {
     "data": {
      "text/plain": [
       "<matplotlib.figure.Figure at 0x7fb398408e48>"
      ]
     },
     "metadata": {},
     "output_type": "display_data"
    },
    {
     "data": {
      "text/plain": [
       "<matplotlib.figure.Figure at 0x7fb3981b6518>"
      ]
     },
     "metadata": {},
     "output_type": "display_data"
    },
    {
     "data": {
      "text/plain": [
       "<matplotlib.figure.Figure at 0x7fb3986ecc88>"
      ]
     },
     "metadata": {},
     "output_type": "display_data"
    },
    {
     "data": {
      "text/plain": [
       "<matplotlib.figure.Figure at 0x7fb3986f3828>"
      ]
     },
     "metadata": {},
     "output_type": "display_data"
    },
    {
     "data": {
      "text/plain": [
       "<matplotlib.figure.Figure at 0x7fb3983e60b8>"
      ]
     },
     "metadata": {},
     "output_type": "display_data"
    },
    {
     "data": {
      "text/plain": [
       "<matplotlib.figure.Figure at 0x7fb39852c390>"
      ]
     },
     "metadata": {},
     "output_type": "display_data"
    },
    {
     "data": {
      "text/plain": [
       "<matplotlib.figure.Figure at 0x7fb3983ad1d0>"
      ]
     },
     "metadata": {},
     "output_type": "display_data"
    },
    {
     "data": {
      "image/png": "[encoded data removed]",
      "text/plain": [
       "<matplotlib.figure.Figure at 0x7fb398530710>"
      ]
     },
     "metadata": {},
     "output_type": "display_data"
    }
   ],
   "source": [
    "for i in dataA['Año'].unique():\n",
    "    # configuración del mapas\n",
    "    plt.clf()\n",
    "    fig = plt.figure(figsize=(6,4))\n",
    "    m = Basemap(projection='mill',llcrnrlat=LAT_MIN,urcrnrlat=LAT_MAX,llcrnrlon=LONG_MIN,urcrnrlon=LONG_MAX,resolution='h')\n",
    "\n",
    "    # filtrar información por años\n",
    "    dataTemporal = dataA.loc[dataA['Año'] == i]\n",
    "    x = np.array(dataTemporal['longitud'])\n",
    "    y = np.array(dataTemporal['latitud'])\n",
    "    z = np.array(dataTemporal['Tmin'])\n",
    "\n",
    "    # agregar shapes\n",
    "    m.readshapefile('shapes/Estados', 'Estados')\n",
    "\n",
    "    # agregar puntos\n",
    "    m.scatter(x,y, latlon=True, s=2,c=z, cmap='Blues_r')\n",
    "\n",
    "    # crear anotación\n",
    "    latitudAnotacion = (LAT_MAX + LAT_MIN) / 2\n",
    "    longitudAnotacion = (LONG_MAX + LONG_MIN) / 2\n",
    "    plt.annotate('@2018 INIFAP', xy=(longitudAnotacion,latitudAnotacion), xycoords='figure fraction', xytext=(0.25,0.55), color='g')\n",
    "    plt.title(\"Temperatura Mínima Media\\n registrada en el Invierno del {}\".format(i))\n",
    "    plt.colorbar()\n",
    "    temp = \"maps/Tmin_{}.png\".format(i)\n",
    "    plt.savefig(temp, dpi=300)"
   ]
  },
  {
   "cell_type": "markdown",
   "metadata": {
    "collapsed": true
   },
   "source": [
    "## Imagenes\n",
    "\n",
    "![1997](maps/Tmin_1997.png)\n",
    "![1998](maps/Tmin_1998.png)\n",
    "![1999](maps/Tmin_1999.png)\n",
    "![2000](maps/Tmin_2000.png)\n",
    "![2001](maps/Tmin_2001.png)\n",
    "![2002](maps/Tmin_2002.png)\n",
    "![2003](maps/Tmin_2003.png)\n",
    "![2004](maps/Tmin_2004.png)\n",
    "![2005](maps/Tmin_2005.png)\n",
    "![2006](maps/Tmin_2006.png)\n",
    "![2007](maps/Tmin_2007.png)\n",
    "![2008](maps/Tmin_2008.png)\n",
    "![2009](maps/Tmin_2009.png)\n",
    "![2010](maps/Tmin_2010.png)\n",
    "![2011](maps/Tmin_2011.png)\n",
    "![2012](maps/Tmin_2012.png)\n",
    "![2013](maps/Tmin_2013.png)\n",
    "![2014](maps/Tmin_2014.png)\n",
    "![2015](maps/Tmin_2015.png)\n",
    "![2016](maps/Tmin_2016.png)\n",
    "![2017](maps/Tmin_2017.png)\n",
    "![2018](maps/Tmin_2018.png)"
   ]
  },
  {
   "cell_type": "markdown",
   "metadata": {},
   "source": [
    "## Tmax"
   ]
  },
  {
   "cell_type": "code",
   "execution_count": 31,
   "metadata": {},
   "outputs": [
    {
     "data": {
      "text/html": [
       "<div>\n",
       "<style>\n",
       "    .dataframe thead tr:only-child th {\n",
       "        text-align: right;\n",
       "    }\n",
       "\n",
       "    .dataframe thead th {\n",
       "        text-align: left;\n",
       "    }\n",
       "\n",
       "    .dataframe tbody tr th {\n",
       "        vertical-align: top;\n",
       "    }\n",
       "</style>\n",
       "<table border=\"1\" class=\"dataframe\">\n",
       "  <thead>\n",
       "    <tr style=\"text-align: right;\">\n",
       "      <th></th>\n",
       "      <th>numero</th>\n",
       "      <th>nombre</th>\n",
       "      <th>longitud</th>\n",
       "      <th>latitud</th>\n",
       "      <th>fecha</th>\n",
       "      <th>tmin</th>\n",
       "      <th>tmax</th>\n",
       "      <th>Año</th>\n",
       "      <th>Mes</th>\n",
       "      <th>Día</th>\n",
       "      <th>Estación</th>\n",
       "    </tr>\n",
       "  </thead>\n",
       "  <tbody>\n",
       "    <tr>\n",
       "      <th>0</th>\n",
       "      <td>2</td>\n",
       "      <td>La Mirinda</td>\n",
       "      <td>-102.251778</td>\n",
       "      <td>22.248528</td>\n",
       "      <td>2013-03-01 00:00:00</td>\n",
       "      <td>0.7</td>\n",
       "      <td>19.8</td>\n",
       "      <td>2013</td>\n",
       "      <td>03</td>\n",
       "      <td>01</td>\n",
       "      <td>Invierno</td>\n",
       "    </tr>\n",
       "    <tr>\n",
       "      <th>1</th>\n",
       "      <td>2</td>\n",
       "      <td>La Mirinda</td>\n",
       "      <td>-102.251778</td>\n",
       "      <td>22.248528</td>\n",
       "      <td>2013-03-09 00:00:00</td>\n",
       "      <td>11.7</td>\n",
       "      <td>26.6</td>\n",
       "      <td>2013</td>\n",
       "      <td>03</td>\n",
       "      <td>09</td>\n",
       "      <td>Invierno</td>\n",
       "    </tr>\n",
       "    <tr>\n",
       "      <th>2</th>\n",
       "      <td>2</td>\n",
       "      <td>La Mirinda</td>\n",
       "      <td>-102.251778</td>\n",
       "      <td>22.248528</td>\n",
       "      <td>2013-03-13 00:00:00</td>\n",
       "      <td>7.9</td>\n",
       "      <td>21.6</td>\n",
       "      <td>2013</td>\n",
       "      <td>03</td>\n",
       "      <td>13</td>\n",
       "      <td>Invierno</td>\n",
       "    </tr>\n",
       "    <tr>\n",
       "      <th>3</th>\n",
       "      <td>2</td>\n",
       "      <td>La Mirinda</td>\n",
       "      <td>-102.251778</td>\n",
       "      <td>22.248528</td>\n",
       "      <td>2013-03-15 00:00:00</td>\n",
       "      <td>5.9</td>\n",
       "      <td>22.7</td>\n",
       "      <td>2013</td>\n",
       "      <td>03</td>\n",
       "      <td>15</td>\n",
       "      <td>Invierno</td>\n",
       "    </tr>\n",
       "    <tr>\n",
       "      <th>174</th>\n",
       "      <td>2</td>\n",
       "      <td>La Mirinda</td>\n",
       "      <td>-102.251778</td>\n",
       "      <td>22.248528</td>\n",
       "      <td>2013-12-21 00:00:00</td>\n",
       "      <td>10.3</td>\n",
       "      <td>20.4</td>\n",
       "      <td>2013</td>\n",
       "      <td>12</td>\n",
       "      <td>21</td>\n",
       "      <td>Invierno</td>\n",
       "    </tr>\n",
       "  </tbody>\n",
       "</table>\n",
       "</div>"
      ],
      "text/plain": [
       "    numero      nombre    longitud    latitud                fecha  tmin  \\\n",
       "0        2  La Mirinda -102.251778  22.248528  2013-03-01 00:00:00   0.7   \n",
       "1        2  La Mirinda -102.251778  22.248528  2013-03-09 00:00:00  11.7   \n",
       "2        2  La Mirinda -102.251778  22.248528  2013-03-13 00:00:00   7.9   \n",
       "3        2  La Mirinda -102.251778  22.248528  2013-03-15 00:00:00   5.9   \n",
       "174      2  La Mirinda -102.251778  22.248528  2013-12-21 00:00:00  10.3   \n",
       "\n",
       "     tmax   Año Mes Día  Estación  \n",
       "0    19.8  2013  03  01  Invierno  \n",
       "1    26.6  2013  03  09  Invierno  \n",
       "2    21.6  2013  03  13  Invierno  \n",
       "3    22.7  2013  03  15  Invierno  \n",
       "174  20.4  2013  12  21  Invierno  "
      ]
     },
     "execution_count": 31,
     "metadata": {},
     "output_type": "execute_result"
    }
   ],
   "source": [
    "# media de tmax anual\n",
    "data.head()"
   ]
  },
  {
   "cell_type": "code",
   "execution_count": 36,
   "metadata": {},
   "outputs": [
    {
     "data": {
      "text/plain": [
       "Año\n",
       "1997    17.000000\n",
       "1998    20.633333\n",
       "1999    21.915721\n",
       "2000    22.375403\n",
       "2001    24.755000\n",
       "2002    21.770707\n",
       "2003    21.855847\n",
       "2004    20.279940\n",
       "2005    21.809418\n",
       "2006    22.450739\n",
       "2007    21.792402\n",
       "2008    23.203600\n",
       "2009    23.613862\n",
       "2010    21.585399\n",
       "2011    23.234937\n",
       "2012    22.400377\n",
       "2013    20.915923\n",
       "2014    22.333743\n",
       "2015    21.239565\n",
       "2016    21.455727\n",
       "2017    22.610332\n",
       "2018    21.294922\n",
       "Name: tmax, dtype: float64"
      ]
     },
     "execution_count": 36,
     "metadata": {},
     "output_type": "execute_result"
    }
   ],
   "source": [
    "data.groupby(\"Año\").mean()[\"tmax\"]"
   ]
  },
  {
   "cell_type": "code",
   "execution_count": 37,
   "metadata": {},
   "outputs": [
    {
     "data": {
      "text/plain": [
       "<matplotlib.axes._subplots.AxesSubplot at 0x7fb398201400>"
      ]
     },
     "execution_count": 37,
     "metadata": {},
     "output_type": "execute_result"
    },
    {
     "data": {
      "image/png": "[encoded data removed]",
      "text/plain": [
       "<matplotlib.figure.Figure at 0x7fb3981be358>"
      ]
     },
     "metadata": {},
     "output_type": "display_data"
    }
   ],
   "source": [
    "data.groupby(\"Año\").mean()[\"tmax\"].plot.bar()"
   ]
  },
  {
   "cell_type": "code",
   "execution_count": 38,
   "metadata": {},
   "outputs": [
    {
     "data": {
      "text/plain": [
       "<matplotlib.axes._subplots.AxesSubplot at 0x7fb398300b38>"
      ]
     },
     "execution_count": 38,
     "metadata": {},
     "output_type": "execute_result"
    },
    {
     "data": {
      "image/png": "[encoded data removed]",
      "text/plain": [
       "<matplotlib.figure.Figure at 0x7fb3985d0390>"
      ]
     },
     "metadata": {},
     "output_type": "display_data"
    }
   ],
   "source": [
    "data[\"tmax\"].hist(bins=50)"
   ]
  },
  {
   "cell_type": "code",
   "execution_count": 39,
   "metadata": {},
   "outputs": [],
   "source": [
    "dataAnio = data.groupby([\"longitud\", \"latitud\", \"Año\"]).mean()[\"tmax\"]"
   ]
  },
  {
   "cell_type": "code",
   "execution_count": 40,
   "metadata": {},
   "outputs": [
    {
     "data": {
      "text/plain": [
       "longitud     latitud    Año \n",
       "-116.860285  32.101629  2015    17.468182\n",
       "                        2016    19.970500\n",
       "                        2017    18.796129\n",
       "                        2018    21.580937\n",
       "-116.161000  31.252000  2015    17.072727\n",
       "Name: tmax, dtype: float64"
      ]
     },
     "execution_count": 40,
     "metadata": {},
     "output_type": "execute_result"
    }
   ],
   "source": [
    "dataAnio.head()"
   ]
  },
  {
   "cell_type": "code",
   "execution_count": 41,
   "metadata": {},
   "outputs": [],
   "source": [
    "dataAnio.to_csv(\"data/dataPorUbicacion_Anios_tmax.csv\")"
   ]
  },
  {
   "cell_type": "code",
   "execution_count": 42,
   "metadata": {},
   "outputs": [],
   "source": [
    "dataA = pd.read_csv(\"data/dataPorUbicacion_Anios_tmax.csv\", header=None)"
   ]
  },
  {
   "cell_type": "code",
   "execution_count": 43,
   "metadata": {},
   "outputs": [
    {
     "data": {
      "text/html": [
       "<div>\n",
       "<style>\n",
       "    .dataframe thead tr:only-child th {\n",
       "        text-align: right;\n",
       "    }\n",
       "\n",
       "    .dataframe thead th {\n",
       "        text-align: left;\n",
       "    }\n",
       "\n",
       "    .dataframe tbody tr th {\n",
       "        vertical-align: top;\n",
       "    }\n",
       "</style>\n",
       "<table border=\"1\" class=\"dataframe\">\n",
       "  <thead>\n",
       "    <tr style=\"text-align: right;\">\n",
       "      <th></th>\n",
       "      <th>0</th>\n",
       "      <th>1</th>\n",
       "      <th>2</th>\n",
       "      <th>3</th>\n",
       "    </tr>\n",
       "  </thead>\n",
       "  <tbody>\n",
       "    <tr>\n",
       "      <th>0</th>\n",
       "      <td>-116.860285</td>\n",
       "      <td>32.101629</td>\n",
       "      <td>2015</td>\n",
       "      <td>17.468182</td>\n",
       "    </tr>\n",
       "    <tr>\n",
       "      <th>1</th>\n",
       "      <td>-116.860285</td>\n",
       "      <td>32.101629</td>\n",
       "      <td>2016</td>\n",
       "      <td>19.970500</td>\n",
       "    </tr>\n",
       "    <tr>\n",
       "      <th>2</th>\n",
       "      <td>-116.860285</td>\n",
       "      <td>32.101629</td>\n",
       "      <td>2017</td>\n",
       "      <td>18.796129</td>\n",
       "    </tr>\n",
       "    <tr>\n",
       "      <th>3</th>\n",
       "      <td>-116.860285</td>\n",
       "      <td>32.101629</td>\n",
       "      <td>2018</td>\n",
       "      <td>21.580938</td>\n",
       "    </tr>\n",
       "    <tr>\n",
       "      <th>4</th>\n",
       "      <td>-116.161000</td>\n",
       "      <td>31.252000</td>\n",
       "      <td>2015</td>\n",
       "      <td>17.072727</td>\n",
       "    </tr>\n",
       "  </tbody>\n",
       "</table>\n",
       "</div>"
      ],
      "text/plain": [
       "            0          1     2          3\n",
       "0 -116.860285  32.101629  2015  17.468182\n",
       "1 -116.860285  32.101629  2016  19.970500\n",
       "2 -116.860285  32.101629  2017  18.796129\n",
       "3 -116.860285  32.101629  2018  21.580938\n",
       "4 -116.161000  31.252000  2015  17.072727"
      ]
     },
     "execution_count": 43,
     "metadata": {},
     "output_type": "execute_result"
    }
   ],
   "source": [
    "dataA.head()"
   ]
  },
  {
   "cell_type": "code",
   "execution_count": 44,
   "metadata": {},
   "outputs": [],
   "source": [
    "cols = [\"longitud\",\"latitud\",\"Año\",\"Tmax\"]"
   ]
  },
  {
   "cell_type": "code",
   "execution_count": 45,
   "metadata": {},
   "outputs": [],
   "source": [
    "dataA.columns = cols"
   ]
  },
  {
   "cell_type": "code",
   "execution_count": 47,
   "metadata": {},
   "outputs": [],
   "source": [
    "# límites del mapas\n",
    "LONG_MAX = -86.1010\n",
    "LONG_MIN = -118.2360\n",
    "LAT_MAX = 33.5791\n",
    "LAT_MIN = 12.37"
   ]
  },
  {
   "cell_type": "code",
   "execution_count": 49,
   "metadata": {},
   "outputs": [
    {
     "name": "stderr",
     "output_type": "stream",
     "text": [
      "/home/jorge/anaconda3/lib/python3.5/site-packages/matplotlib/pyplot.py:515: RuntimeWarning: More than 20 figures have been opened. Figures created through the pyplot interface (`matplotlib.pyplot.figure`) are retained until explicitly closed and may consume too much memory. (To control this warning, see the rcParam `figure.max_open_warning`).\n",
      "  max_open_warning, RuntimeWarning)\n"
     ]
    },
    {
     "data": {
      "text/plain": [
       "<matplotlib.figure.Figure at 0x7fb39867cc88>"
      ]
     },
     "metadata": {},
     "output_type": "display_data"
    },
    {
     "data": {
      "text/plain": [
       "<matplotlib.figure.Figure at 0x7fb39867cdd8>"
      ]
     },
     "metadata": {},
     "output_type": "display_data"
    },
    {
     "data": {
      "text/plain": [
       "<matplotlib.figure.Figure at 0x7fb398308c50>"
      ]
     },
     "metadata": {},
     "output_type": "display_data"
    },
    {
     "data": {
      "text/plain": [
       "<matplotlib.figure.Figure at 0x7fb3987ad4e0>"
      ]
     },
     "metadata": {},
     "output_type": "display_data"
    },
    {
     "data": {
      "text/plain": [
       "<matplotlib.figure.Figure at 0x7fb3987f1b00>"
      ]
     },
     "metadata": {},
     "output_type": "display_data"
    },
    {
     "data": {
      "text/plain": [
       "<matplotlib.figure.Figure at 0x7fb3981f7e80>"
      ]
     },
     "metadata": {},
     "output_type": "display_data"
    },
    {
     "data": {
      "text/plain": [
       "<matplotlib.figure.Figure at 0x7fb398390eb8>"
      ]
     },
     "metadata": {},
     "output_type": "display_data"
    },
    {
     "data": {
      "text/plain": [
       "<matplotlib.figure.Figure at 0x7fb39885fd68>"
      ]
     },
     "metadata": {},
     "output_type": "display_data"
    },
    {
     "data": {
      "text/plain": [
       "<matplotlib.figure.Figure at 0x7fb3987c1940>"
      ]
     },
     "metadata": {},
     "output_type": "display_data"
    },
    {
     "data": {
      "text/plain": [
       "<matplotlib.figure.Figure at 0x7fb39835fb38>"
      ]
     },
     "metadata": {},
     "output_type": "display_data"
    },
    {
     "data": {
      "text/plain": [
       "<matplotlib.figure.Figure at 0x7fb398785a58>"
      ]
     },
     "metadata": {},
     "output_type": "display_data"
    },
    {
     "data": {
      "text/plain": [
       "<matplotlib.figure.Figure at 0x7fb3988d3400>"
      ]
     },
     "metadata": {},
     "output_type": "display_data"
    },
    {
     "data": {
      "text/plain": [
       "<matplotlib.figure.Figure at 0x7fb3985a6f98>"
      ]
     },
     "metadata": {},
     "output_type": "display_data"
    },
    {
     "data": {
      "text/plain": [
       "<matplotlib.figure.Figure at 0x7fb398772080>"
      ]
     },
     "metadata": {},
     "output_type": "display_data"
    },
    {
     "data": {
      "text/plain": [
       "<matplotlib.figure.Figure at 0x7fb3987a7eb8>"
      ]
     },
     "metadata": {},
     "output_type": "display_data"
    },
    {
     "data": {
      "text/plain": [
       "<matplotlib.figure.Figure at 0x7fb3982ceef0>"
      ]
     },
     "metadata": {},
     "output_type": "display_data"
    },
    {
     "data": {
      "text/plain": [
       "<matplotlib.figure.Figure at 0x7fb39887af28>"
      ]
     },
     "metadata": {},
     "output_type": "display_data"
    },
    {
     "data": {
      "text/plain": [
       "<matplotlib.figure.Figure at 0x7fb3983715c0>"
      ]
     },
     "metadata": {},
     "output_type": "display_data"
    },
    {
     "data": {
      "text/plain": [
       "<matplotlib.figure.Figure at 0x7fb39884f780>"
      ]
     },
     "metadata": {},
     "output_type": "display_data"
    },
    {
     "data": {
      "text/plain": [
       "<matplotlib.figure.Figure at 0x7fb3989472b0>"
      ]
     },
     "metadata": {},
     "output_type": "display_data"
    },
    {
     "data": {
      "text/plain": [
       "<matplotlib.figure.Figure at 0x7fb398774278>"
      ]
     },
     "metadata": {},
     "output_type": "display_data"
    },
    {
     "data": {
      "text/plain": [
       "<matplotlib.figure.Figure at 0x7fb3981dd048>"
      ]
     },
     "metadata": {},
     "output_type": "display_data"
    },
    {
     "data": {
      "image/png": "[encoded data removed]",
      "text/plain": [
       "<matplotlib.figure.Figure at 0x7fb398840ef0>"
      ]
     },
     "metadata": {},
     "output_type": "display_data"
    }
   ],
   "source": [
    "for i in dataA['Año'].unique():\n",
    "    # configuración del mapas\n",
    "    plt.clf()\n",
    "    fig = plt.figure(figsize=(6,4))\n",
    "    m = Basemap(projection='mill',llcrnrlat=LAT_MIN,urcrnrlat=LAT_MAX,llcrnrlon=LONG_MIN,urcrnrlon=LONG_MAX,resolution='h')\n",
    "\n",
    "    # filtrar información por años\n",
    "    dataTemporal = dataA.loc[dataA['Año'] == i]\n",
    "    x = np.array(dataTemporal['longitud'])\n",
    "    y = np.array(dataTemporal['latitud'])\n",
    "    z = np.array(dataTemporal['Tmax'])\n",
    "\n",
    "    # agregar shapes\n",
    "    m.readshapefile('shapes/Estados', 'Estados')\n",
    "\n",
    "    # agregar puntos\n",
    "    m.scatter(x,y, latlon=True, s=2,c=z, cmap='Reds')\n",
    "\n",
    "    # crear anotación\n",
    "    latitudAnotacion = (LAT_MAX + LAT_MIN) / 2\n",
    "    longitudAnotacion = (LONG_MAX + LONG_MIN) / 2\n",
    "    plt.annotate('@2018 INIFAP', xy=(longitudAnotacion,latitudAnotacion), xycoords='figure fraction', xytext=(0.25,0.55), color='g')\n",
    "    plt.title(\"Temperatura Máxima Media\\n registrada en el Invierno del {}\".format(i))\n",
    "    plt.colorbar()\n",
    "    temp = \"maps/Tmax_{}.png\".format(i)\n",
    "    plt.savefig(temp, dpi=300)"
   ]
  },
  {
   "cell_type": "markdown",
   "metadata": {},
   "source": [
    "![1997](maps/Tmax_1997.png)\n",
    "![1998](maps/Tmax_1998.png)\n",
    "![1999](maps/Tmax_1999.png)\n",
    "![2000](maps/Tmax_2000.png)\n",
    "![2001](maps/Tmax_2001.png)\n",
    "![2002](maps/Tmax_2002.png)\n",
    "![2003](maps/Tmax_2003.png)\n",
    "![2004](maps/Tmax_2004.png)\n",
    "![2005](maps/Tmax_2005.png)\n",
    "![2006](maps/Tmax_2006.png)\n",
    "![2007](maps/Tmax_2007.png)\n",
    "![2008](maps/Tmax_2008.png)\n",
    "![2009](maps/Tmax_2009.png)\n",
    "![2010](maps/Tmax_2010.png)\n",
    "![2011](maps/Tmax_2011.png)\n",
    "![2012](maps/Tmax_2012.png)\n",
    "![2013](maps/Tmax_2013.png)\n",
    "![2014](maps/Tmax_2014.png)\n",
    "![2015](maps/Tmax_2015.png)\n",
    "![2016](maps/Tmax_2016.png)\n",
    "![2017](maps/Tmax_2017.png)\n",
    "![2018](maps/Tmax_2018.png)\n"
   ]
  },
  {
   "cell_type": "code",
   "execution_count": null,
   "metadata": {},
   "outputs": [],
   "source": []
  }
 ],
 "metadata": {
  "kernelspec": {
   "display_name": "Python 3",
   "language": "python",
   "name": "python3"
  },
  "language_info": {
   "codemirror_mode": {
    "name": "ipython",
    "version": 3
   },
   "file_extension": ".py",
   "mimetype": "text/x-python",
   "name": "python",
   "nbconvert_exporter": "python",
   "pygments_lexer": "ipython3",
   "version": "3.5.4"
  }
 },
 "nbformat": 4,
 "nbformat_minor": 2
}
